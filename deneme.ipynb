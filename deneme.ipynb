{
 "cells": [
  {
   "cell_type": "code",
   "execution_count": 3,
   "id": "1fffd92d-61b6-46f0-a601-bd1d30b6feb4",
   "metadata": {},
   "outputs": [
    {
     "name": "stdout",
     "output_type": "stream",
     "text": [
      "{'place_id': 235328010, 'osm_type': 'relation', 'osm_id': 963209, 'display_name': 'Adalar, İstanbul, Marmara Bölgesi, Türkiye', 'place_rank': 12, 'category': 'boundary', 'type': 'administrative', 'importance': 0.42880725659489766, 'address': {'archipelago': 'Adalar', 'province': 'İstanbul', 'region': 'Marmara Bölgesi', 'country': 'Türkiye', 'country_code': 'tr'}}\n"
     ]
    }
   ],
   "source": [
    "import json\n",
    "\n",
    "with open(\"ilce_geojson.json\", \"r\", encoding=\"utf-8\") as f:\n",
    "    geo = json.load(f)\n",
    "\n",
    "print(geo[\"features\"][0][\"properties\"])\n"
   ]
  },
  {
   "cell_type": "code",
   "execution_count": 5,
   "id": "d6794d39-a508-473d-96a5-c9f103d92ea8",
   "metadata": {},
   "outputs": [
    {
     "ename": "NameError",
     "evalue": "name 'ilce_geojson' is not defined",
     "output_type": "error",
     "traceback": [
      "\u001b[1;31m---------------------------------------------------------------------------\u001b[0m",
      "\u001b[1;31mNameError\u001b[0m                                 Traceback (most recent call last)",
      "Cell \u001b[1;32mIn[5], line 1\u001b[0m\n\u001b[1;32m----> 1\u001b[0m \u001b[38;5;28mprint\u001b[39m(ilce_geojson[\u001b[38;5;124m\"\u001b[39m\u001b[38;5;124mfeatures\u001b[39m\u001b[38;5;124m\"\u001b[39m][\u001b[38;5;241m0\u001b[39m][\u001b[38;5;124m\"\u001b[39m\u001b[38;5;124mproperties\u001b[39m\u001b[38;5;124m\"\u001b[39m])\n",
      "\u001b[1;31mNameError\u001b[0m: name 'ilce_geojson' is not defined"
     ]
    }
   ],
   "source": [
    "print(ilce_geojson[\"features\"][0][\"properties\"])\n"
   ]
  },
  {
   "cell_type": "code",
   "execution_count": 7,
   "id": "84a2394b-2a11-4897-a1d8-b06a1cb6e1fd",
   "metadata": {},
   "outputs": [
    {
     "name": "stdout",
     "output_type": "stream",
     "text": [
      "{'place_id': 235328010, 'osm_type': 'relation', 'osm_id': 963209, 'display_name': 'Adalar, İstanbul, Marmara Bölgesi, Türkiye', 'place_rank': 12, 'category': 'boundary', 'type': 'administrative', 'importance': 0.42880725659489766, 'address': {'archipelago': 'Adalar', 'province': 'İstanbul', 'region': 'Marmara Bölgesi', 'country': 'Türkiye', 'country_code': 'tr'}}\n"
     ]
    }
   ],
   "source": [
    "import json\n",
    "\n",
    "with open(\"ilce_geojson.json\", \"r\", encoding=\"utf-8\") as f:\n",
    "    geo = json.load(f)\n",
    "\n",
    "# İlk feature'ı incele\n",
    "print(geo[\"features\"][0][\"properties\"])\n"
   ]
  },
  {
   "cell_type": "code",
   "execution_count": null,
   "id": "f45a9e2e-93f3-4eba-ad04-647db7f2c7db",
   "metadata": {},
   "outputs": [],
   "source": []
  }
 ],
 "metadata": {
  "kernelspec": {
   "display_name": "Python [conda env:base] *",
   "language": "python",
   "name": "conda-base-py"
  },
  "language_info": {
   "codemirror_mode": {
    "name": "ipython",
    "version": 3
   },
   "file_extension": ".py",
   "mimetype": "text/x-python",
   "name": "python",
   "nbconvert_exporter": "python",
   "pygments_lexer": "ipython3",
   "version": "3.12.7"
  }
 },
 "nbformat": 4,
 "nbformat_minor": 5
}
