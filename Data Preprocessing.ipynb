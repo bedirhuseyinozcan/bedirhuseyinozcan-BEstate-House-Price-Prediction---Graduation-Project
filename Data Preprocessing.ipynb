{
 "cells": [
  {
   "cell_type": "code",
   "execution_count": 167,
   "id": "372d18a7-25ea-4ff5-80af-37501d5a2b3d",
   "metadata": {},
   "outputs": [
    {
     "data": {
      "text/html": [
       "<div>\n",
       "<style scoped>\n",
       "    .dataframe tbody tr th:only-of-type {\n",
       "        vertical-align: middle;\n",
       "    }\n",
       "\n",
       "    .dataframe tbody tr th {\n",
       "        vertical-align: top;\n",
       "    }\n",
       "\n",
       "    .dataframe thead th {\n",
       "        text-align: right;\n",
       "    }\n",
       "</style>\n",
       "<table border=\"1\" class=\"dataframe\">\n",
       "  <thead>\n",
       "    <tr style=\"text-align: right;\">\n",
       "      <th></th>\n",
       "      <th>Başlık</th>\n",
       "      <th>Fiyat</th>\n",
       "      <th>Şehir</th>\n",
       "      <th>İlçe</th>\n",
       "      <th>Mahalle</th>\n",
       "      <th>Konut Tipi</th>\n",
       "      <th>Oda Sayısı</th>\n",
       "      <th>Brüt / Net M2</th>\n",
       "      <th>Banyo Sayısı</th>\n",
       "      <th>Kat</th>\n",
       "      <th>...</th>\n",
       "      <th>Bina Yaşı</th>\n",
       "      <th>Isınma Tipi</th>\n",
       "      <th>Eşya Durumu</th>\n",
       "      <th>Yapı Tipi</th>\n",
       "      <th>Yapının Durumu</th>\n",
       "      <th>Aidat</th>\n",
       "      <th>Depozito</th>\n",
       "      <th>Yakıt Tipi</th>\n",
       "      <th>Cephe</th>\n",
       "      <th>Link</th>\n",
       "    </tr>\n",
       "  </thead>\n",
       "  <tbody>\n",
       "    <tr>\n",
       "      <th>0</th>\n",
       "      <td>ESENYURT CUMHURİYET MAH 1+1 KİRALIK SIFIR SİTE...</td>\n",
       "      <td>12.000 TL</td>\n",
       "      <td>İstanbul</td>\n",
       "      <td>Esenyurt</td>\n",
       "      <td>Barbaros Hayrettin Paşa Mah.</td>\n",
       "      <td>Daire</td>\n",
       "      <td>1 + 1</td>\n",
       "      <td>75 m2  / 55 m2</td>\n",
       "      <td>1</td>\n",
       "      <td>8. Kat</td>\n",
       "      <td>...</td>\n",
       "      <td>Sıfır Bina</td>\n",
       "      <td>Merkezi (Pay Öl...</td>\n",
       "      <td>Eşyalı Değil</td>\n",
       "      <td>Betonarme</td>\n",
       "      <td>Sıfır</td>\n",
       "      <td>550 TL</td>\n",
       "      <td>20.000 TL</td>\n",
       "      <td>Doğalgaz</td>\n",
       "      <td>Güney</td>\n",
       "      <td>https://www.hepsiemlak.com/istanbul-esenyurt-b...</td>\n",
       "    </tr>\n",
       "    <tr>\n",
       "      <th>1</th>\n",
       "      <td>SIFIR SİTE İÇİ 1+1 KİRALIK DAİRE OTOPARKLI GÜV...</td>\n",
       "      <td>12.000 TL</td>\n",
       "      <td>İstanbul</td>\n",
       "      <td>Esenyurt</td>\n",
       "      <td>Mehterçeşme Mah.</td>\n",
       "      <td>Daire</td>\n",
       "      <td>1 + 1</td>\n",
       "      <td>95 m2  / 70 m2</td>\n",
       "      <td>1</td>\n",
       "      <td>En Üst Kat</td>\n",
       "      <td>...</td>\n",
       "      <td>Sıfır Bina</td>\n",
       "      <td>Kombi</td>\n",
       "      <td>Eşyalı Değil</td>\n",
       "      <td>Betonarme</td>\n",
       "      <td>Sıfır</td>\n",
       "      <td>1.150 TL</td>\n",
       "      <td>20.000 TL</td>\n",
       "      <td>Doğalgaz</td>\n",
       "      <td>Kuzey, Güney</td>\n",
       "      <td>https://www.hepsiemlak.com/istanbul-esenyurt-m...</td>\n",
       "    </tr>\n",
       "    <tr>\n",
       "      <th>2</th>\n",
       "      <td>ESENYURT MEYDANDA MÜKEMMEL KONUMDA MASRAFSIZ 2...</td>\n",
       "      <td>14.000 TL</td>\n",
       "      <td>İstanbul</td>\n",
       "      <td>Esenyurt</td>\n",
       "      <td>Yeşilkent Mah.</td>\n",
       "      <td>Daire</td>\n",
       "      <td>2 + 1</td>\n",
       "      <td>100 m2  / 80 m2</td>\n",
       "      <td>1</td>\n",
       "      <td>1. Kat</td>\n",
       "      <td>...</td>\n",
       "      <td>3 Yaşında</td>\n",
       "      <td>Kombi</td>\n",
       "      <td>Eşyalı Değil</td>\n",
       "      <td>Betonarme</td>\n",
       "      <td>İkinci El</td>\n",
       "      <td>350 TL</td>\n",
       "      <td>30.000 TL</td>\n",
       "      <td>Doğalgaz</td>\n",
       "      <td>Güney</td>\n",
       "      <td>https://www.hepsiemlak.com/istanbul-esenyurt-y...</td>\n",
       "    </tr>\n",
       "    <tr>\n",
       "      <th>3</th>\n",
       "      <td>Sarıyer Rumelikavağı Mahallesinde Deniz Manzar...</td>\n",
       "      <td>50.000 TL</td>\n",
       "      <td>İstanbul</td>\n",
       "      <td>Sarıyer</td>\n",
       "      <td>Rumeli Kavağı Mah.</td>\n",
       "      <td>Daire</td>\n",
       "      <td>4 + 1</td>\n",
       "      <td>160 m2  / 150 m2</td>\n",
       "      <td>2</td>\n",
       "      <td>3. Kat</td>\n",
       "      <td>...</td>\n",
       "      <td>49 Yaşında</td>\n",
       "      <td>Kombi</td>\n",
       "      <td>Eşyalı Değil</td>\n",
       "      <td>-</td>\n",
       "      <td>İkinci El</td>\n",
       "      <td>-</td>\n",
       "      <td>100.000 TL</td>\n",
       "      <td>-</td>\n",
       "      <td>Batı</td>\n",
       "      <td>https://www.hepsiemlak.com/istanbul-sariyer-ru...</td>\n",
       "    </tr>\n",
       "    <tr>\n",
       "      <th>4</th>\n",
       "      <td>DİAMOND DAN MAYA KEMER EVLERİ 2.ETAPTA 151 m2,...</td>\n",
       "      <td>140.000 TL</td>\n",
       "      <td>İstanbul</td>\n",
       "      <td>Eyüpsultan</td>\n",
       "      <td>Mimar Sinan Mah.</td>\n",
       "      <td>Daire</td>\n",
       "      <td>3 + 1</td>\n",
       "      <td>151 m2  / 111 m2</td>\n",
       "      <td>2</td>\n",
       "      <td>Bahçe Katı</td>\n",
       "      <td>...</td>\n",
       "      <td>1 Yaşında</td>\n",
       "      <td>Yerden Isıtma</td>\n",
       "      <td>Eşyalı Değil</td>\n",
       "      <td>Betonarme</td>\n",
       "      <td>Sıfır</td>\n",
       "      <td>13.689 TL</td>\n",
       "      <td>270.000 TL</td>\n",
       "      <td>Doğalgaz</td>\n",
       "      <td>Güney, Doğu</td>\n",
       "      <td>https://www.hepsiemlak.com/istanbul-eyupsultan...</td>\n",
       "    </tr>\n",
       "  </tbody>\n",
       "</table>\n",
       "<p>5 rows × 21 columns</p>\n",
       "</div>"
      ],
      "text/plain": [
       "                                              Başlık       Fiyat     Şehir  \\\n",
       "0  ESENYURT CUMHURİYET MAH 1+1 KİRALIK SIFIR SİTE...   12.000 TL  İstanbul   \n",
       "1  SIFIR SİTE İÇİ 1+1 KİRALIK DAİRE OTOPARKLI GÜV...   12.000 TL  İstanbul   \n",
       "2  ESENYURT MEYDANDA MÜKEMMEL KONUMDA MASRAFSIZ 2...   14.000 TL  İstanbul   \n",
       "3  Sarıyer Rumelikavağı Mahallesinde Deniz Manzar...   50.000 TL  İstanbul   \n",
       "4  DİAMOND DAN MAYA KEMER EVLERİ 2.ETAPTA 151 m2,...  140.000 TL  İstanbul   \n",
       "\n",
       "         İlçe                       Mahalle Konut Tipi Oda Sayısı  \\\n",
       "0    Esenyurt  Barbaros Hayrettin Paşa Mah.      Daire      1 + 1   \n",
       "1    Esenyurt              Mehterçeşme Mah.      Daire      1 + 1   \n",
       "2    Esenyurt                Yeşilkent Mah.      Daire      2 + 1   \n",
       "3     Sarıyer            Rumeli Kavağı Mah.      Daire      4 + 1   \n",
       "4  Eyüpsultan              Mimar Sinan Mah.      Daire      3 + 1   \n",
       "\n",
       "      Brüt / Net M2 Banyo Sayısı         Kat  ...   Bina Yaşı  \\\n",
       "0    75 m2  / 55 m2            1      8. Kat  ...  Sıfır Bina   \n",
       "1    95 m2  / 70 m2            1  En Üst Kat  ...  Sıfır Bina   \n",
       "2   100 m2  / 80 m2            1      1. Kat  ...   3 Yaşında   \n",
       "3  160 m2  / 150 m2            2      3. Kat  ...  49 Yaşında   \n",
       "4  151 m2  / 111 m2            2  Bahçe Katı  ...   1 Yaşında   \n",
       "\n",
       "          Isınma Tipi   Eşya Durumu  Yapı Tipi Yapının Durumu      Aidat  \\\n",
       "0  Merkezi (Pay Öl...  Eşyalı Değil  Betonarme          Sıfır     550 TL   \n",
       "1               Kombi  Eşyalı Değil  Betonarme          Sıfır   1.150 TL   \n",
       "2               Kombi  Eşyalı Değil  Betonarme      İkinci El     350 TL   \n",
       "3               Kombi  Eşyalı Değil          -      İkinci El          -   \n",
       "4       Yerden Isıtma  Eşyalı Değil  Betonarme          Sıfır  13.689 TL   \n",
       "\n",
       "     Depozito Yakıt Tipi         Cephe  \\\n",
       "0   20.000 TL   Doğalgaz         Güney   \n",
       "1   20.000 TL   Doğalgaz  Kuzey, Güney   \n",
       "2   30.000 TL   Doğalgaz         Güney   \n",
       "3  100.000 TL          -          Batı   \n",
       "4  270.000 TL   Doğalgaz   Güney, Doğu   \n",
       "\n",
       "                                                Link  \n",
       "0  https://www.hepsiemlak.com/istanbul-esenyurt-b...  \n",
       "1  https://www.hepsiemlak.com/istanbul-esenyurt-m...  \n",
       "2  https://www.hepsiemlak.com/istanbul-esenyurt-y...  \n",
       "3  https://www.hepsiemlak.com/istanbul-sariyer-ru...  \n",
       "4  https://www.hepsiemlak.com/istanbul-eyupsultan...  \n",
       "\n",
       "[5 rows x 21 columns]"
      ]
     },
     "execution_count": 167,
     "metadata": {},
     "output_type": "execute_result"
    }
   ],
   "source": [
    "import pandas as pd\n",
    "import numpy as np \n",
    "import csv\n",
    "df = pd.read_csv(\"istanbulkiralik.csv\", encoding=\"utf-8-sig\")\n",
    "df.head()"
   ]
  },
  {
   "cell_type": "code",
   "execution_count": 169,
   "id": "5ca9e210-8d5e-470a-833c-90eaa2b59cf7",
   "metadata": {},
   "outputs": [
    {
     "data": {
      "text/plain": [
       "(9425, 21)"
      ]
     },
     "execution_count": 169,
     "metadata": {},
     "output_type": "execute_result"
    }
   ],
   "source": [
    "df.shape"
   ]
  },
  {
   "cell_type": "code",
   "execution_count": 171,
   "id": "6a033204-5e8e-47bc-9d05-bda2cd3792fd",
   "metadata": {},
   "outputs": [
    {
     "name": "stdout",
     "output_type": "stream",
     "text": [
      "Fiyat: 42 tane '-' içeriyor\n",
      "Şehir: 42 tane '-' içeriyor\n",
      "İlçe: 42 tane '-' içeriyor\n",
      "Mahalle: 42 tane '-' içeriyor\n",
      "Konut Tipi: 42 tane '-' içeriyor\n",
      "Oda Sayısı: 42 tane '-' içeriyor\n",
      "Brüt / Net M2: 42 tane '-' içeriyor\n",
      "Banyo Sayısı: 114 tane '-' içeriyor\n",
      "Kat: 408 tane '-' içeriyor\n",
      "Kat Sayısı: 42 tane '-' içeriyor\n",
      "Bina Yaşı: 45 tane '-' içeriyor\n",
      "Isınma Tipi: 45 tane '-' içeriyor\n",
      "Eşya Durumu: 733 tane '-' içeriyor\n",
      "Yapı Tipi: 2634 tane '-' içeriyor\n",
      "Yapının Durumu: 2331 tane '-' içeriyor\n",
      "Aidat: 5182 tane '-' içeriyor\n",
      "Depozito: 3834 tane '-' içeriyor\n",
      "Yakıt Tipi: 2138 tane '-' içeriyor\n",
      "Cephe: 2642 tane '-' içeriyor\n"
     ]
    }
   ],
   "source": [
    "for col in df.columns:\n",
    "    if df[col].dtype == \"object\":  # sadece metinsel sütunları kontrol et\n",
    "        count = df[col].astype(str).str.strip().eq(\"-\").sum()\n",
    "        if count > 0:\n",
    "            print(f\"{col}: {count} tane '-' içeriyor\")"
   ]
  },
  {
   "cell_type": "code",
   "execution_count": 173,
   "id": "82b0eae5-b02d-4d64-994c-4b5cad2c5e1b",
   "metadata": {},
   "outputs": [
    {
     "data": {
      "text/plain": [
       "42"
      ]
     },
     "execution_count": 173,
     "metadata": {},
     "output_type": "execute_result"
    }
   ],
   "source": [
    "df[df[\"Brüt / Net M2\"] == \"-\"].shape[0]"
   ]
  },
  {
   "cell_type": "code",
   "execution_count": 175,
   "id": "46a6428c-959b-45ae-9473-f712d40adf72",
   "metadata": {},
   "outputs": [],
   "source": [
    "# CAPTCHA hatasıyla gelen bozuk ilanları temizle\n",
    "df = df[df[\"Brüt / Net M2\"] != \"-\"].reset_index(drop=True)"
   ]
  },
  {
   "cell_type": "code",
   "execution_count": 177,
   "id": "047958bc-0833-487a-ad52-5b0e9d2e19a4",
   "metadata": {},
   "outputs": [
    {
     "name": "stdout",
     "output_type": "stream",
     "text": [
      "<class 'pandas.core.frame.DataFrame'>\n",
      "RangeIndex: 9383 entries, 0 to 9382\n",
      "Data columns (total 21 columns):\n",
      " #   Column          Non-Null Count  Dtype \n",
      "---  ------          --------------  ----- \n",
      " 0   Başlık          9383 non-null   object\n",
      " 1   Fiyat           9383 non-null   object\n",
      " 2   Şehir           9383 non-null   object\n",
      " 3   İlçe            9383 non-null   object\n",
      " 4   Mahalle         9383 non-null   object\n",
      " 5   Konut Tipi      9383 non-null   object\n",
      " 6   Oda Sayısı      9383 non-null   object\n",
      " 7   Brüt / Net M2   9383 non-null   object\n",
      " 8   Banyo Sayısı    9383 non-null   object\n",
      " 9   Kat             9383 non-null   object\n",
      " 10  Kat Sayısı      9383 non-null   object\n",
      " 11  Bina Yaşı       9383 non-null   object\n",
      " 12  Isınma Tipi     9383 non-null   object\n",
      " 13  Eşya Durumu     9383 non-null   object\n",
      " 14  Yapı Tipi       9383 non-null   object\n",
      " 15  Yapının Durumu  9383 non-null   object\n",
      " 16  Aidat           9383 non-null   object\n",
      " 17  Depozito        9383 non-null   object\n",
      " 18  Yakıt Tipi      9383 non-null   object\n",
      " 19  Cephe           9383 non-null   object\n",
      " 20  Link            9383 non-null   object\n",
      "dtypes: object(21)\n",
      "memory usage: 1.5+ MB\n"
     ]
    }
   ],
   "source": [
    "df.info()"
   ]
  },
  {
   "cell_type": "code",
   "execution_count": 179,
   "id": "e5cfc5c8-cf2e-4248-848f-b550d9f1e049",
   "metadata": {},
   "outputs": [],
   "source": [
    "# Geçersiz verileri çıkar\n",
    "df = df[~df[\"Brüt / Net M2\"].str.contains(\"Belirtilmemiş\", na=False)].reset_index(drop=True)\n",
    "\n",
    "# Brüt / Net M2 sütunundaki \"m2\" birimini silmeden önce sayıları çek\n",
    "# Noktayı sadece binlik ayraçlarda kullanılıyorsa kaldır:\n",
    "df[\"Brüt / Net M2\"] = df[\"Brüt / Net M2\"].str.replace(\" m2\", \"\", regex=False)\n",
    "df[\"Brüt / Net M2\"] = df[\"Brüt / Net M2\"].str.replace(\".\", \"\", regex=False)\n",
    "\n",
    "# Ayır ve dönüştür\n",
    "df[['Brüt m2', 'Net m2']] = df['Brüt / Net M2'].str.extract(r'(\\d+)\\s*/\\s*(\\d+)')\n",
    "df['Brüt m2'] = pd.to_numeric(df['Brüt m2'], errors='coerce')\n",
    "df['Net m2'] = pd.to_numeric(df['Net m2'], errors='coerce')\n",
    "\n",
    "# Orijinal sütunu kaldır\n",
    "df.drop(columns=[\"Brüt / Net M2\"], inplace=True)\n",
    "\n",
    "\n"
   ]
  },
  {
   "cell_type": "code",
   "execution_count": 181,
   "id": "55e7df9f-d283-415f-9fe1-136f868d50a4",
   "metadata": {},
   "outputs": [
    {
     "name": "stdout",
     "output_type": "stream",
     "text": [
      "<class 'pandas.core.frame.DataFrame'>\n",
      "RangeIndex: 9382 entries, 0 to 9381\n",
      "Data columns (total 22 columns):\n",
      " #   Column          Non-Null Count  Dtype \n",
      "---  ------          --------------  ----- \n",
      " 0   Başlık          9382 non-null   object\n",
      " 1   Fiyat           9382 non-null   object\n",
      " 2   Şehir           9382 non-null   object\n",
      " 3   İlçe            9382 non-null   object\n",
      " 4   Mahalle         9382 non-null   object\n",
      " 5   Konut Tipi      9382 non-null   object\n",
      " 6   Oda Sayısı      9382 non-null   object\n",
      " 7   Banyo Sayısı    9382 non-null   object\n",
      " 8   Kat             9382 non-null   object\n",
      " 9   Kat Sayısı      9382 non-null   object\n",
      " 10  Bina Yaşı       9382 non-null   object\n",
      " 11  Isınma Tipi     9382 non-null   object\n",
      " 12  Eşya Durumu     9382 non-null   object\n",
      " 13  Yapı Tipi       9382 non-null   object\n",
      " 14  Yapının Durumu  9382 non-null   object\n",
      " 15  Aidat           9382 non-null   object\n",
      " 16  Depozito        9382 non-null   object\n",
      " 17  Yakıt Tipi      9382 non-null   object\n",
      " 18  Cephe           9382 non-null   object\n",
      " 19  Link            9382 non-null   object\n",
      " 20  Brüt m2         9382 non-null   int64 \n",
      " 21  Net m2          9382 non-null   int64 \n",
      "dtypes: int64(2), object(20)\n",
      "memory usage: 1.6+ MB\n"
     ]
    }
   ],
   "source": [
    "df.info()"
   ]
  },
  {
   "cell_type": "code",
   "execution_count": 183,
   "id": "ec8abe5a-5634-43aa-8ef9-bff6ea3dbf26",
   "metadata": {},
   "outputs": [
    {
     "data": {
      "text/html": [
       "<div>\n",
       "<style scoped>\n",
       "    .dataframe tbody tr th:only-of-type {\n",
       "        vertical-align: middle;\n",
       "    }\n",
       "\n",
       "    .dataframe tbody tr th {\n",
       "        vertical-align: top;\n",
       "    }\n",
       "\n",
       "    .dataframe thead th {\n",
       "        text-align: right;\n",
       "    }\n",
       "</style>\n",
       "<table border=\"1\" class=\"dataframe\">\n",
       "  <thead>\n",
       "    <tr style=\"text-align: right;\">\n",
       "      <th></th>\n",
       "      <th>Fiyat</th>\n",
       "    </tr>\n",
       "  </thead>\n",
       "  <tbody>\n",
       "    <tr>\n",
       "      <th>0</th>\n",
       "      <td>12000</td>\n",
       "    </tr>\n",
       "    <tr>\n",
       "      <th>1</th>\n",
       "      <td>12000</td>\n",
       "    </tr>\n",
       "    <tr>\n",
       "      <th>2</th>\n",
       "      <td>14000</td>\n",
       "    </tr>\n",
       "  </tbody>\n",
       "</table>\n",
       "</div>"
      ],
      "text/plain": [
       "   Fiyat\n",
       "0  12000\n",
       "1  12000\n",
       "2  14000"
      ]
     },
     "execution_count": 183,
     "metadata": {},
     "output_type": "execute_result"
    }
   ],
   "source": [
    "# 'Fiyat' sütununu sayıya çevir (örnek: \"12.000 TL\" → 12000)\n",
    "df['Fiyat'] = df['Fiyat'].str.replace(\".\", \"\", regex=False)  # binlik ayraçları sil\n",
    "df['Fiyat'] = df['Fiyat'].str.replace(\" TL\", \"\", regex=False)  # \" TL\" sil\n",
    "df['Fiyat'] = pd.to_numeric(df['Fiyat'], errors='coerce')  # sayıya çevir\n",
    "\n",
    "# Kontrol edelim\n",
    "df[['Fiyat']].head(3)\n"
   ]
  },
  {
   "cell_type": "code",
   "execution_count": 185,
   "id": "7f50839d-5bbc-452d-b458-e28758e599cb",
   "metadata": {},
   "outputs": [],
   "source": [
    "import unicodedata\n",
    "\n",
    "def normalize_city(text):\n",
    "    if not isinstance(text, str):\n",
    "        return \"\"\n",
    "    text = unicodedata.normalize(\"NFKD\", text)\n",
    "    text = \"\".join([c for c in text if not unicodedata.combining(c)])\n",
    "    return text.strip().lower()\n",
    "\n",
    "# Şehir sütununu doğrudan normalize et\n",
    "df[\"Şehir\"] = df[\"Şehir\"].astype(str).apply(normalize_city)\n",
    "\n",
    "# İstanbul dışındaki verileri çıkar\n",
    "df = df[df[\"Şehir\"] == \"istanbul\"].reset_index(drop=True)\n",
    "\n",
    "\n",
    "\n"
   ]
  },
  {
   "cell_type": "code",
   "execution_count": 187,
   "id": "6b0a91b7-04d4-4e90-81e1-bf1d11150ae3",
   "metadata": {},
   "outputs": [
    {
     "name": "stdout",
     "output_type": "stream",
     "text": [
      "['istanbul']\n",
      "(9370, 22)\n"
     ]
    }
   ],
   "source": [
    "print(df[\"Şehir\"].unique())\n",
    "print(df.shape)\n"
   ]
  },
  {
   "cell_type": "code",
   "execution_count": 189,
   "id": "c9ec006f-fb4e-4e73-90d8-29cc7b883fab",
   "metadata": {},
   "outputs": [
    {
     "data": {
      "text/html": [
       "<div>\n",
       "<style scoped>\n",
       "    .dataframe tbody tr th:only-of-type {\n",
       "        vertical-align: middle;\n",
       "    }\n",
       "\n",
       "    .dataframe tbody tr th {\n",
       "        vertical-align: top;\n",
       "    }\n",
       "\n",
       "    .dataframe thead th {\n",
       "        text-align: right;\n",
       "    }\n",
       "</style>\n",
       "<table border=\"1\" class=\"dataframe\">\n",
       "  <thead>\n",
       "    <tr style=\"text-align: right;\">\n",
       "      <th></th>\n",
       "      <th>Başlık</th>\n",
       "      <th>Fiyat</th>\n",
       "      <th>Şehir</th>\n",
       "      <th>İlçe</th>\n",
       "      <th>Mahalle</th>\n",
       "      <th>Konut Tipi</th>\n",
       "      <th>Oda Sayısı</th>\n",
       "      <th>Banyo Sayısı</th>\n",
       "      <th>Kat</th>\n",
       "      <th>Kat Sayısı</th>\n",
       "      <th>...</th>\n",
       "      <th>Eşya Durumu</th>\n",
       "      <th>Yapı Tipi</th>\n",
       "      <th>Yapının Durumu</th>\n",
       "      <th>Aidat</th>\n",
       "      <th>Depozito</th>\n",
       "      <th>Yakıt Tipi</th>\n",
       "      <th>Cephe</th>\n",
       "      <th>Link</th>\n",
       "      <th>Brüt m2</th>\n",
       "      <th>Net m2</th>\n",
       "    </tr>\n",
       "  </thead>\n",
       "  <tbody>\n",
       "    <tr>\n",
       "      <th>0</th>\n",
       "      <td>ESENYURT CUMHURİYET MAH 1+1 KİRALIK SIFIR SİTE...</td>\n",
       "      <td>12000</td>\n",
       "      <td>istanbul</td>\n",
       "      <td>Esenyurt</td>\n",
       "      <td>Barbaros Hayrettin Paşa Mah.</td>\n",
       "      <td>Daire</td>\n",
       "      <td>1 + 1</td>\n",
       "      <td>1</td>\n",
       "      <td>8. Kat</td>\n",
       "      <td>10 Katlı</td>\n",
       "      <td>...</td>\n",
       "      <td>Eşyalı Değil</td>\n",
       "      <td>Betonarme</td>\n",
       "      <td>Sıfır</td>\n",
       "      <td>550 TL</td>\n",
       "      <td>20.000 TL</td>\n",
       "      <td>Doğalgaz</td>\n",
       "      <td>Güney</td>\n",
       "      <td>https://www.hepsiemlak.com/istanbul-esenyurt-b...</td>\n",
       "      <td>75</td>\n",
       "      <td>55</td>\n",
       "    </tr>\n",
       "    <tr>\n",
       "      <th>1</th>\n",
       "      <td>SIFIR SİTE İÇİ 1+1 KİRALIK DAİRE OTOPARKLI GÜV...</td>\n",
       "      <td>12000</td>\n",
       "      <td>istanbul</td>\n",
       "      <td>Esenyurt</td>\n",
       "      <td>Mehterçeşme Mah.</td>\n",
       "      <td>Daire</td>\n",
       "      <td>1 + 1</td>\n",
       "      <td>1</td>\n",
       "      <td>En Üst Kat</td>\n",
       "      <td>5 Katlı</td>\n",
       "      <td>...</td>\n",
       "      <td>Eşyalı Değil</td>\n",
       "      <td>Betonarme</td>\n",
       "      <td>Sıfır</td>\n",
       "      <td>1.150 TL</td>\n",
       "      <td>20.000 TL</td>\n",
       "      <td>Doğalgaz</td>\n",
       "      <td>Kuzey, Güney</td>\n",
       "      <td>https://www.hepsiemlak.com/istanbul-esenyurt-m...</td>\n",
       "      <td>95</td>\n",
       "      <td>70</td>\n",
       "    </tr>\n",
       "    <tr>\n",
       "      <th>2</th>\n",
       "      <td>ESENYURT MEYDANDA MÜKEMMEL KONUMDA MASRAFSIZ 2...</td>\n",
       "      <td>14000</td>\n",
       "      <td>istanbul</td>\n",
       "      <td>Esenyurt</td>\n",
       "      <td>Yeşilkent Mah.</td>\n",
       "      <td>Daire</td>\n",
       "      <td>2 + 1</td>\n",
       "      <td>1</td>\n",
       "      <td>1. Kat</td>\n",
       "      <td>4 Katlı</td>\n",
       "      <td>...</td>\n",
       "      <td>Eşyalı Değil</td>\n",
       "      <td>Betonarme</td>\n",
       "      <td>İkinci El</td>\n",
       "      <td>350 TL</td>\n",
       "      <td>30.000 TL</td>\n",
       "      <td>Doğalgaz</td>\n",
       "      <td>Güney</td>\n",
       "      <td>https://www.hepsiemlak.com/istanbul-esenyurt-y...</td>\n",
       "      <td>100</td>\n",
       "      <td>80</td>\n",
       "    </tr>\n",
       "    <tr>\n",
       "      <th>3</th>\n",
       "      <td>Sarıyer Rumelikavağı Mahallesinde Deniz Manzar...</td>\n",
       "      <td>50000</td>\n",
       "      <td>istanbul</td>\n",
       "      <td>Sarıyer</td>\n",
       "      <td>Rumeli Kavağı Mah.</td>\n",
       "      <td>Daire</td>\n",
       "      <td>4 + 1</td>\n",
       "      <td>2</td>\n",
       "      <td>3. Kat</td>\n",
       "      <td>3 Katlı</td>\n",
       "      <td>...</td>\n",
       "      <td>Eşyalı Değil</td>\n",
       "      <td>-</td>\n",
       "      <td>İkinci El</td>\n",
       "      <td>-</td>\n",
       "      <td>100.000 TL</td>\n",
       "      <td>-</td>\n",
       "      <td>Batı</td>\n",
       "      <td>https://www.hepsiemlak.com/istanbul-sariyer-ru...</td>\n",
       "      <td>160</td>\n",
       "      <td>150</td>\n",
       "    </tr>\n",
       "    <tr>\n",
       "      <th>4</th>\n",
       "      <td>DİAMOND DAN MAYA KEMER EVLERİ 2.ETAPTA 151 m2,...</td>\n",
       "      <td>140000</td>\n",
       "      <td>istanbul</td>\n",
       "      <td>Eyüpsultan</td>\n",
       "      <td>Mimar Sinan Mah.</td>\n",
       "      <td>Daire</td>\n",
       "      <td>3 + 1</td>\n",
       "      <td>2</td>\n",
       "      <td>Bahçe Katı</td>\n",
       "      <td>3 Katlı</td>\n",
       "      <td>...</td>\n",
       "      <td>Eşyalı Değil</td>\n",
       "      <td>Betonarme</td>\n",
       "      <td>Sıfır</td>\n",
       "      <td>13.689 TL</td>\n",
       "      <td>270.000 TL</td>\n",
       "      <td>Doğalgaz</td>\n",
       "      <td>Güney, Doğu</td>\n",
       "      <td>https://www.hepsiemlak.com/istanbul-eyupsultan...</td>\n",
       "      <td>151</td>\n",
       "      <td>111</td>\n",
       "    </tr>\n",
       "  </tbody>\n",
       "</table>\n",
       "<p>5 rows × 22 columns</p>\n",
       "</div>"
      ],
      "text/plain": [
       "                                              Başlık   Fiyat     Şehir  \\\n",
       "0  ESENYURT CUMHURİYET MAH 1+1 KİRALIK SIFIR SİTE...   12000  istanbul   \n",
       "1  SIFIR SİTE İÇİ 1+1 KİRALIK DAİRE OTOPARKLI GÜV...   12000  istanbul   \n",
       "2  ESENYURT MEYDANDA MÜKEMMEL KONUMDA MASRAFSIZ 2...   14000  istanbul   \n",
       "3  Sarıyer Rumelikavağı Mahallesinde Deniz Manzar...   50000  istanbul   \n",
       "4  DİAMOND DAN MAYA KEMER EVLERİ 2.ETAPTA 151 m2,...  140000  istanbul   \n",
       "\n",
       "         İlçe                       Mahalle Konut Tipi Oda Sayısı  \\\n",
       "0    Esenyurt  Barbaros Hayrettin Paşa Mah.      Daire      1 + 1   \n",
       "1    Esenyurt              Mehterçeşme Mah.      Daire      1 + 1   \n",
       "2    Esenyurt                Yeşilkent Mah.      Daire      2 + 1   \n",
       "3     Sarıyer            Rumeli Kavağı Mah.      Daire      4 + 1   \n",
       "4  Eyüpsultan              Mimar Sinan Mah.      Daire      3 + 1   \n",
       "\n",
       "  Banyo Sayısı         Kat Kat Sayısı  ...   Eşya Durumu  Yapı Tipi  \\\n",
       "0            1      8. Kat   10 Katlı  ...  Eşyalı Değil  Betonarme   \n",
       "1            1  En Üst Kat    5 Katlı  ...  Eşyalı Değil  Betonarme   \n",
       "2            1      1. Kat    4 Katlı  ...  Eşyalı Değil  Betonarme   \n",
       "3            2      3. Kat    3 Katlı  ...  Eşyalı Değil          -   \n",
       "4            2  Bahçe Katı    3 Katlı  ...  Eşyalı Değil  Betonarme   \n",
       "\n",
       "  Yapının Durumu      Aidat    Depozito Yakıt Tipi         Cephe  \\\n",
       "0          Sıfır     550 TL   20.000 TL   Doğalgaz         Güney   \n",
       "1          Sıfır   1.150 TL   20.000 TL   Doğalgaz  Kuzey, Güney   \n",
       "2      İkinci El     350 TL   30.000 TL   Doğalgaz         Güney   \n",
       "3      İkinci El          -  100.000 TL          -          Batı   \n",
       "4          Sıfır  13.689 TL  270.000 TL   Doğalgaz   Güney, Doğu   \n",
       "\n",
       "                                                Link Brüt m2 Net m2  \n",
       "0  https://www.hepsiemlak.com/istanbul-esenyurt-b...      75     55  \n",
       "1  https://www.hepsiemlak.com/istanbul-esenyurt-m...      95     70  \n",
       "2  https://www.hepsiemlak.com/istanbul-esenyurt-y...     100     80  \n",
       "3  https://www.hepsiemlak.com/istanbul-sariyer-ru...     160    150  \n",
       "4  https://www.hepsiemlak.com/istanbul-eyupsultan...     151    111  \n",
       "\n",
       "[5 rows x 22 columns]"
      ]
     },
     "metadata": {},
     "output_type": "display_data"
    }
   ],
   "source": [
    "import pandas as pd\n",
    "display(df.head(5))"
   ]
  },
  {
   "cell_type": "code",
   "execution_count": 191,
   "id": "fa76b2a2-0ebd-4cd1-a791-0020b47827ce",
   "metadata": {},
   "outputs": [
    {
     "data": {
      "text/plain": [
       "0"
      ]
     },
     "execution_count": 191,
     "metadata": {},
     "output_type": "execute_result"
    }
   ],
   "source": [
    "df[\"Fiyat\"].describe()\n",
    "df[\"Fiyat\"].isna().sum()  # Kaç tanesi dönüştürülememiş?\n"
   ]
  },
  {
   "cell_type": "code",
   "execution_count": 193,
   "id": "96d93ccb-a049-4d7f-b55e-1b6bde3ad99d",
   "metadata": {},
   "outputs": [
    {
     "name": "stdout",
     "output_type": "stream",
     "text": [
      "<class 'pandas.core.frame.DataFrame'>\n",
      "RangeIndex: 9370 entries, 0 to 9369\n",
      "Data columns (total 22 columns):\n",
      " #   Column          Non-Null Count  Dtype \n",
      "---  ------          --------------  ----- \n",
      " 0   Başlık          9370 non-null   object\n",
      " 1   Fiyat           9370 non-null   int64 \n",
      " 2   Şehir           9370 non-null   object\n",
      " 3   İlçe            9370 non-null   object\n",
      " 4   Mahalle         9370 non-null   object\n",
      " 5   Konut Tipi      9370 non-null   object\n",
      " 6   Oda Sayısı      9370 non-null   object\n",
      " 7   Banyo Sayısı    9370 non-null   object\n",
      " 8   Kat             9370 non-null   object\n",
      " 9   Kat Sayısı      9370 non-null   object\n",
      " 10  Bina Yaşı       9370 non-null   object\n",
      " 11  Isınma Tipi     9370 non-null   object\n",
      " 12  Eşya Durumu     9370 non-null   object\n",
      " 13  Yapı Tipi       9370 non-null   object\n",
      " 14  Yapının Durumu  9370 non-null   object\n",
      " 15  Aidat           9370 non-null   object\n",
      " 16  Depozito        9370 non-null   object\n",
      " 17  Yakıt Tipi      9370 non-null   object\n",
      " 18  Cephe           9370 non-null   object\n",
      " 19  Link            9370 non-null   object\n",
      " 20  Brüt m2         9370 non-null   int64 \n",
      " 21  Net m2          9370 non-null   int64 \n",
      "dtypes: int64(3), object(19)\n",
      "memory usage: 1.6+ MB\n"
     ]
    }
   ],
   "source": [
    "df.info()"
   ]
  },
  {
   "cell_type": "code",
   "execution_count": 195,
   "id": "4e168cb5-ebc1-445f-aaec-45d161140def",
   "metadata": {},
   "outputs": [
    {
     "data": {
      "text/plain": [
       "Başlık            0\n",
       "Fiyat             0\n",
       "Şehir             0\n",
       "İlçe              0\n",
       "Mahalle           0\n",
       "Konut Tipi        0\n",
       "Oda Sayısı        0\n",
       "Banyo Sayısı      0\n",
       "Kat               0\n",
       "Kat Sayısı        0\n",
       "Bina Yaşı         0\n",
       "Isınma Tipi       0\n",
       "Eşya Durumu       0\n",
       "Yapı Tipi         0\n",
       "Yapının Durumu    0\n",
       "Aidat             0\n",
       "Depozito          0\n",
       "Yakıt Tipi        0\n",
       "Cephe             0\n",
       "Link              0\n",
       "Brüt m2           0\n",
       "Net m2            0\n",
       "dtype: int64"
      ]
     },
     "execution_count": 195,
     "metadata": {},
     "output_type": "execute_result"
    }
   ],
   "source": [
    "df.isna().sum()\n"
   ]
  },
  {
   "cell_type": "code",
   "execution_count": 197,
   "id": "1140e5d4-c379-4e4c-baa9-2f3cb4566349",
   "metadata": {},
   "outputs": [
    {
     "name": "stdout",
     "output_type": "stream",
     "text": [
      "Aynı linke sahip toplam 812 satır bulundu.\n"
     ]
    }
   ],
   "source": [
    "# Aynı linke sahip satır sayısını hesapla\n",
    "duplicate_links = df[df.duplicated(subset=[\"Link\"], keep=False)]\n",
    "print(f\"Aynı linke sahip toplam {duplicate_links.shape[0]} satır bulundu.\")\n",
    "duplicate_links.sort_values(\"Link\").head()\n",
    "df = df.drop_duplicates(subset=[\"Link\"], keep=\"first\").reset_index(drop=True)"
   ]
  },
  {
   "cell_type": "code",
   "execution_count": 199,
   "id": "d255d016-6540-41e2-a13a-7370fe347b53",
   "metadata": {},
   "outputs": [
    {
     "data": {
      "text/plain": [
       "(8911, 22)"
      ]
     },
     "execution_count": 199,
     "metadata": {},
     "output_type": "execute_result"
    }
   ],
   "source": [
    "df.shape"
   ]
  },
  {
   "cell_type": "code",
   "execution_count": 201,
   "id": "65bbb258-70dd-4261-966b-1fb0b7e01faf",
   "metadata": {},
   "outputs": [
    {
     "name": "stdout",
     "output_type": "stream",
     "text": [
      "Başlık            object\n",
      "Fiyat              int64\n",
      "Şehir             object\n",
      "İlçe              object\n",
      "Mahalle           object\n",
      "Konut Tipi        object\n",
      "Oda Sayısı        object\n",
      "Banyo Sayısı      object\n",
      "Kat               object\n",
      "Kat Sayısı        object\n",
      "Bina Yaşı         object\n",
      "Isınma Tipi       object\n",
      "Eşya Durumu       object\n",
      "Yapı Tipi         object\n",
      "Yapının Durumu    object\n",
      "Aidat             object\n",
      "Depozito          object\n",
      "Yakıt Tipi        object\n",
      "Cephe             object\n",
      "Link              object\n",
      "Brüt m2            int64\n",
      "Net m2             int64\n",
      "dtype: object\n"
     ]
    }
   ],
   "source": [
    "print(df.dtypes)"
   ]
  },
  {
   "cell_type": "code",
   "execution_count": 203,
   "id": "68423e42-dd36-4698-8f2f-c76cae391997",
   "metadata": {},
   "outputs": [
    {
     "name": "stdout",
     "output_type": "stream",
     "text": [
      "Konut Tipi\n",
      "Daire           7667\n",
      "Residence        789\n",
      "Villa            345\n",
      "Müstakil Ev       65\n",
      "Bina              20\n",
      "Yalı Dairesi      10\n",
      "Yalı               5\n",
      "Köşk               4\n",
      "Yazlık             2\n",
      "Çiftlik Evi        2\n",
      "Loft Daire         1\n",
      "Kooperatif         1\n",
      "Name: count, dtype: int64\n"
     ]
    }
   ],
   "source": [
    "print(df['Konut Tipi'].value_counts())\n"
   ]
  },
  {
   "cell_type": "code",
   "execution_count": 205,
   "id": "a44c309f-ba61-42da-9b4f-4d90d0372ce1",
   "metadata": {},
   "outputs": [],
   "source": [
    "# Az bulunanları \"Diğer\" olarak birleştir\n",
    "az_bulunanlar = ['Kooperatif', 'Loft Daire', 'Çiftlik Evi', 'Yazlık', 'Köşk', 'Yalı', 'Yalı Dairesi', 'Bina', 'Müstakil Ev']\n",
    "df['Konut Tipi'] = df['Konut Tipi'].apply(lambda x: 'Diğer' if x in az_bulunanlar else x)\n"
   ]
  },
  {
   "cell_type": "code",
   "execution_count": 207,
   "id": "d48e38dc-bf90-4444-847c-d586238ee868",
   "metadata": {},
   "outputs": [
    {
     "name": "stdout",
     "output_type": "stream",
     "text": [
      "Konut Tipi\n",
      "Daire        7667\n",
      "Residence     789\n",
      "Villa         345\n",
      "Diğer         110\n",
      "Name: count, dtype: int64\n"
     ]
    }
   ],
   "source": [
    "print(df['Konut Tipi'].value_counts())\n"
   ]
  },
  {
   "cell_type": "code",
   "execution_count": 209,
   "id": "a34fb5e6-7b05-4159-8457-c594e37d60dd",
   "metadata": {},
   "outputs": [
    {
     "name": "stdout",
     "output_type": "stream",
     "text": [
      "Kategori eşleştirmeleri: {0: 'Daire', 1: 'Diğer', 2: 'Residence', 3: 'Villa'}\n"
     ]
    }
   ],
   "source": [
    "from sklearn.preprocessing import LabelEncoder\n",
    "\n",
    "le = LabelEncoder()\n",
    "df['Konut Tipi Encoded'] = le.fit_transform(df['Konut Tipi'])\n",
    "\n",
    "# Kategori eşleştirmelerini göstermek için\n",
    "categories_mapping = dict(enumerate(le.classes_))\n",
    "print(\"Kategori eşleştirmeleri:\", categories_mapping)\n"
   ]
  },
  {
   "cell_type": "code",
   "execution_count": 211,
   "id": "3af542cf-d2b7-402c-b959-f087663c66a2",
   "metadata": {},
   "outputs": [
    {
     "name": "stdout",
     "output_type": "stream",
     "text": [
      "Başlık                object\n",
      "Fiyat                  int64\n",
      "Şehir                 object\n",
      "İlçe                  object\n",
      "Mahalle               object\n",
      "Konut Tipi            object\n",
      "Oda Sayısı            object\n",
      "Banyo Sayısı          object\n",
      "Kat                   object\n",
      "Kat Sayısı            object\n",
      "Bina Yaşı             object\n",
      "Isınma Tipi           object\n",
      "Eşya Durumu           object\n",
      "Yapı Tipi             object\n",
      "Yapının Durumu        object\n",
      "Aidat                 object\n",
      "Depozito              object\n",
      "Yakıt Tipi            object\n",
      "Cephe                 object\n",
      "Link                  object\n",
      "Brüt m2                int64\n",
      "Net m2                 int64\n",
      "Konut Tipi Encoded     int32\n",
      "dtype: object\n"
     ]
    }
   ],
   "source": [
    "print(df.dtypes)"
   ]
  },
  {
   "cell_type": "code",
   "execution_count": 213,
   "id": "62c924da-8f21-4322-b1d4-4ea0d408cfa3",
   "metadata": {},
   "outputs": [
    {
     "name": "stdout",
     "output_type": "stream",
     "text": [
      "Konut Tipi\n",
      "Daire        7667\n",
      "Residence     789\n",
      "Villa         345\n",
      "Diğer         110\n",
      "Name: count, dtype: int64\n"
     ]
    }
   ],
   "source": [
    "print(df['Konut Tipi'].value_counts())"
   ]
  },
  {
   "cell_type": "code",
   "execution_count": 215,
   "id": "ab53b50e-2f23-4288-8e80-c0fd8f515a34",
   "metadata": {},
   "outputs": [
    {
     "name": "stdout",
     "output_type": "stream",
     "text": [
      "Kat\n",
      "2. Kat             1090\n",
      "3. Kat              937\n",
      "1. Kat              854\n",
      "4. Kat              822\n",
      "Ara Kat             620\n",
      "Bahçe Katı          610\n",
      "Yüksek Giriş        530\n",
      "5. Kat              455\n",
      "-                   352\n",
      "Giriş Katı          350\n",
      "21 ve üzeri         274\n",
      "En Üst Kat          250\n",
      "6. Kat              206\n",
      "7. Kat              172\n",
      "Kot 1               128\n",
      "8. Kat              117\n",
      "10. Kat             115\n",
      "Çatı Katı           113\n",
      "9. Kat              104\n",
      "Zemin                89\n",
      "11. Kat              88\n",
      "12. Kat              72\n",
      "Yarı Bodrum          61\n",
      "15. Kat              55\n",
      "Kot 2                55\n",
      "14. Kat              54\n",
      "13. Kat              51\n",
      "20. Kat              49\n",
      "Teras Katı           41\n",
      "16. Kat              37\n",
      "17. Kat              36\n",
      "Bodrum               29\n",
      "18. Kat              28\n",
      "19. Kat              20\n",
      "Kot 3                20\n",
      "Villa Katı           16\n",
      "Bodrum ve Zemin      10\n",
      "Tripleks              1\n",
      "Name: count, dtype: int64\n"
     ]
    }
   ],
   "source": [
    "Katlar = df['Kat'].value_counts()\n",
    "print(Katlar)"
   ]
  },
  {
   "cell_type": "code",
   "execution_count": 217,
   "id": "bc09b9fc-536f-4868-85af-8667cd1e5169",
   "metadata": {},
   "outputs": [],
   "source": [
    "import numpy as np\n",
    "import re\n",
    "\n",
    "# Statik kat isimleri haricindeki özel durumları hariç tut\n",
    "floor_mapping = {\n",
    "    '1. Kat': 1, '2. Kat': 2, '3. Kat': 3, '4. Kat': 4, '5. Kat': 5,\n",
    "    '6. Kat': 6, '7. Kat': 7, '8. Kat': 8, '9. Kat': 9, '10. Kat': 10,\n",
    "    '11. Kat': 11, '12. Kat': 12, '13. Kat': 13, '14. Kat': 14,\n",
    "    '15. Kat': 15, '16. Kat': 16, '17. Kat': 17, '18. Kat': 18,\n",
    "    '19. Kat': 19, '20. Kat': 20, '21 ve üzeri': 21,\n",
    "    'Çatı Katı': 22, 'Bahçe Katı': -1, 'Yüksek Giriş': 0.5,\n",
    "    'Ara Kat': 0.5, 'Giriş Katı': 0, 'Zemin': 0,\n",
    "    'Bodrum': -1, 'Yarı Bodrum': -0.5,\n",
    "    'Teras Katı': 3, 'Kot 1': -1, 'Kot 2': -2, 'Kot 3': -3,\n",
    "    'Villa Katı': 1, 'Bodrum ve Zemin': -1,\n",
    "    'Tripleks': 2, 'Dublex': 1.5, 'Belirtilmemiş': np.nan\n",
    "}\n",
    "\n",
    "# Kat Sayısı'nı sayıya çevir\n",
    "df[\"Kat Sayısı\"] = df[\"Kat Sayısı\"].str.extract(r\"(\\d+)\").astype(float)\n",
    "\n",
    "# Kat sütununu sayısal değere dönüştür\n",
    "def parse_floor(row):\n",
    "    kat = row['Kat']\n",
    "    kat_sayisi = row['Kat Sayısı']\n",
    "    \n",
    "    if pd.isna(kat):\n",
    "        return np.nan\n",
    "    if isinstance(kat, str):\n",
    "        kat = kat.strip()\n",
    "        if kat == \"En Üst Kat\":\n",
    "            return kat_sayisi  # Dinamik dönüşüm burada\n",
    "        if kat in floor_mapping:\n",
    "            return floor_mapping[kat]\n",
    "        match = re.search(r'(-?\\d+(\\.\\d+)?)', kat)\n",
    "        if match:\n",
    "            return float(match.group(0))\n",
    "    return np.nan\n",
    "\n",
    "# Uygula\n",
    "df['Kat'] = df.apply(parse_floor, axis=1)\n"
   ]
  },
  {
   "cell_type": "code",
   "execution_count": 219,
   "id": "6a524446-b006-43d9-a849-474fa35e50a2",
   "metadata": {},
   "outputs": [
    {
     "name": "stdout",
     "output_type": "stream",
     "text": [
      "Başlık                 object\n",
      "Fiyat                   int64\n",
      "Şehir                  object\n",
      "İlçe                   object\n",
      "Mahalle                object\n",
      "Konut Tipi             object\n",
      "Oda Sayısı             object\n",
      "Banyo Sayısı           object\n",
      "Kat                   float64\n",
      "Kat Sayısı            float64\n",
      "Bina Yaşı              object\n",
      "Isınma Tipi            object\n",
      "Eşya Durumu            object\n",
      "Yapı Tipi              object\n",
      "Yapının Durumu         object\n",
      "Aidat                  object\n",
      "Depozito               object\n",
      "Yakıt Tipi             object\n",
      "Cephe                  object\n",
      "Link                   object\n",
      "Brüt m2                 int64\n",
      "Net m2                  int64\n",
      "Konut Tipi Encoded      int32\n",
      "dtype: object\n"
     ]
    }
   ],
   "source": [
    "print(df.dtypes)"
   ]
  },
  {
   "cell_type": "code",
   "execution_count": 221,
   "id": "e59c5c30-ac08-4207-a5a1-86ea123da94a",
   "metadata": {},
   "outputs": [
    {
     "name": "stdout",
     "output_type": "stream",
     "text": [
      "Kat Sayısı\n",
      "5.0      2109\n",
      "4.0      2098\n",
      "3.0      1177\n",
      "6.0       657\n",
      "2.0       294\n",
      "         ... \n",
      "111.0       1\n",
      "76.0        1\n",
      "39.0        1\n",
      "67.0        1\n",
      "336.0       1\n",
      "Name: count, Length: 61, dtype: int64\n"
     ]
    }
   ],
   "source": [
    "Kat_Sayısı_bina = df['Kat Sayısı'].value_counts()\n",
    "print(Kat_Sayısı_bina)"
   ]
  },
  {
   "cell_type": "code",
   "execution_count": 223,
   "id": "830acf0d-15ab-4c54-8481-cf20a2fe5610",
   "metadata": {},
   "outputs": [
    {
     "data": {
      "text/plain": [
       "Kat Sayısı\n",
       "1.0        85\n",
       "2.0       294\n",
       "3.0      1177\n",
       "4.0      2098\n",
       "5.0      2109\n",
       "         ... \n",
       "107.0       1\n",
       "111.0       1\n",
       "315.0       1\n",
       "336.0       1\n",
       "341.0       1\n",
       "Name: count, Length: 61, dtype: int64"
      ]
     },
     "execution_count": 223,
     "metadata": {},
     "output_type": "execute_result"
    }
   ],
   "source": [
    "df['Kat Sayısı'].value_counts().sort_index()\n"
   ]
  },
  {
   "cell_type": "code",
   "execution_count": 225,
   "id": "ba9b4bc0-d8cd-4a2d-be58-0fc2c32c18b8",
   "metadata": {},
   "outputs": [
    {
     "data": {
      "text/plain": [
       "count    8911.000000\n",
       "mean        8.307934\n",
       "std        10.739717\n",
       "min         1.000000\n",
       "25%         4.000000\n",
       "50%         5.000000\n",
       "75%         7.000000\n",
       "max       341.000000\n",
       "Name: Kat Sayısı, dtype: float64"
      ]
     },
     "execution_count": 225,
     "metadata": {},
     "output_type": "execute_result"
    }
   ],
   "source": [
    "df['Kat Sayısı'].describe()\n"
   ]
  },
  {
   "cell_type": "code",
   "execution_count": 227,
   "id": "748c3d82-8527-42cf-a7fc-e03c051ec2e4",
   "metadata": {},
   "outputs": [],
   "source": [
    "df = df[df['Kat Sayısı'] <= 60].reset_index(drop=True)\n"
   ]
  },
  {
   "cell_type": "code",
   "execution_count": 229,
   "id": "0bbbd2a6-cdf0-4815-8694-f95384cb728b",
   "metadata": {},
   "outputs": [
    {
     "data": {
      "text/plain": [
       "count    8893.000000\n",
       "mean        8.092882\n",
       "std         8.561474\n",
       "min         1.000000\n",
       "25%         4.000000\n",
       "50%         5.000000\n",
       "75%         7.000000\n",
       "max        60.000000\n",
       "Name: Kat Sayısı, dtype: float64"
      ]
     },
     "execution_count": 229,
     "metadata": {},
     "output_type": "execute_result"
    }
   ],
   "source": [
    "df['Kat Sayısı'].describe()"
   ]
  },
  {
   "cell_type": "code",
   "execution_count": 231,
   "id": "0670edc9-5c63-4127-8896-eb9062df3437",
   "metadata": {},
   "outputs": [
    {
     "data": {
      "text/plain": [
       "(8893, 23)"
      ]
     },
     "execution_count": 231,
     "metadata": {},
     "output_type": "execute_result"
    }
   ],
   "source": [
    "df.shape"
   ]
  },
  {
   "cell_type": "code",
   "execution_count": 233,
   "id": "c2e62377-1fbb-41e0-a1a9-3b856b3c2f54",
   "metadata": {},
   "outputs": [
    {
     "data": {
      "text/html": [
       "<div>\n",
       "<style scoped>\n",
       "    .dataframe tbody tr th:only-of-type {\n",
       "        vertical-align: middle;\n",
       "    }\n",
       "\n",
       "    .dataframe tbody tr th {\n",
       "        vertical-align: top;\n",
       "    }\n",
       "\n",
       "    .dataframe thead th {\n",
       "        text-align: right;\n",
       "    }\n",
       "</style>\n",
       "<table border=\"1\" class=\"dataframe\">\n",
       "  <thead>\n",
       "    <tr style=\"text-align: right;\">\n",
       "      <th></th>\n",
       "      <th>Başlık</th>\n",
       "      <th>Fiyat</th>\n",
       "      <th>Şehir</th>\n",
       "      <th>İlçe</th>\n",
       "      <th>Mahalle</th>\n",
       "      <th>Konut Tipi</th>\n",
       "      <th>Oda Sayısı</th>\n",
       "      <th>Banyo Sayısı</th>\n",
       "      <th>Kat</th>\n",
       "      <th>Kat Sayısı</th>\n",
       "      <th>...</th>\n",
       "      <th>Yapı Tipi</th>\n",
       "      <th>Yapının Durumu</th>\n",
       "      <th>Aidat</th>\n",
       "      <th>Depozito</th>\n",
       "      <th>Yakıt Tipi</th>\n",
       "      <th>Cephe</th>\n",
       "      <th>Link</th>\n",
       "      <th>Brüt m2</th>\n",
       "      <th>Net m2</th>\n",
       "      <th>Konut Tipi Encoded</th>\n",
       "    </tr>\n",
       "  </thead>\n",
       "  <tbody>\n",
       "    <tr>\n",
       "      <th>0</th>\n",
       "      <td>ESENYURT CUMHURİYET MAH 1+1 KİRALIK SIFIR SİTE...</td>\n",
       "      <td>12000</td>\n",
       "      <td>istanbul</td>\n",
       "      <td>Esenyurt</td>\n",
       "      <td>Barbaros Hayrettin Paşa Mah.</td>\n",
       "      <td>Daire</td>\n",
       "      <td>1 + 1</td>\n",
       "      <td>1</td>\n",
       "      <td>8.0</td>\n",
       "      <td>10.0</td>\n",
       "      <td>...</td>\n",
       "      <td>Betonarme</td>\n",
       "      <td>Sıfır</td>\n",
       "      <td>550 TL</td>\n",
       "      <td>20.000 TL</td>\n",
       "      <td>Doğalgaz</td>\n",
       "      <td>Güney</td>\n",
       "      <td>https://www.hepsiemlak.com/istanbul-esenyurt-b...</td>\n",
       "      <td>75</td>\n",
       "      <td>55</td>\n",
       "      <td>0</td>\n",
       "    </tr>\n",
       "    <tr>\n",
       "      <th>1</th>\n",
       "      <td>SIFIR SİTE İÇİ 1+1 KİRALIK DAİRE OTOPARKLI GÜV...</td>\n",
       "      <td>12000</td>\n",
       "      <td>istanbul</td>\n",
       "      <td>Esenyurt</td>\n",
       "      <td>Mehterçeşme Mah.</td>\n",
       "      <td>Daire</td>\n",
       "      <td>1 + 1</td>\n",
       "      <td>1</td>\n",
       "      <td>5.0</td>\n",
       "      <td>5.0</td>\n",
       "      <td>...</td>\n",
       "      <td>Betonarme</td>\n",
       "      <td>Sıfır</td>\n",
       "      <td>1.150 TL</td>\n",
       "      <td>20.000 TL</td>\n",
       "      <td>Doğalgaz</td>\n",
       "      <td>Kuzey, Güney</td>\n",
       "      <td>https://www.hepsiemlak.com/istanbul-esenyurt-m...</td>\n",
       "      <td>95</td>\n",
       "      <td>70</td>\n",
       "      <td>0</td>\n",
       "    </tr>\n",
       "    <tr>\n",
       "      <th>2</th>\n",
       "      <td>ESENYURT MEYDANDA MÜKEMMEL KONUMDA MASRAFSIZ 2...</td>\n",
       "      <td>14000</td>\n",
       "      <td>istanbul</td>\n",
       "      <td>Esenyurt</td>\n",
       "      <td>Yeşilkent Mah.</td>\n",
       "      <td>Daire</td>\n",
       "      <td>2 + 1</td>\n",
       "      <td>1</td>\n",
       "      <td>1.0</td>\n",
       "      <td>4.0</td>\n",
       "      <td>...</td>\n",
       "      <td>Betonarme</td>\n",
       "      <td>İkinci El</td>\n",
       "      <td>350 TL</td>\n",
       "      <td>30.000 TL</td>\n",
       "      <td>Doğalgaz</td>\n",
       "      <td>Güney</td>\n",
       "      <td>https://www.hepsiemlak.com/istanbul-esenyurt-y...</td>\n",
       "      <td>100</td>\n",
       "      <td>80</td>\n",
       "      <td>0</td>\n",
       "    </tr>\n",
       "    <tr>\n",
       "      <th>3</th>\n",
       "      <td>Sarıyer Rumelikavağı Mahallesinde Deniz Manzar...</td>\n",
       "      <td>50000</td>\n",
       "      <td>istanbul</td>\n",
       "      <td>Sarıyer</td>\n",
       "      <td>Rumeli Kavağı Mah.</td>\n",
       "      <td>Daire</td>\n",
       "      <td>4 + 1</td>\n",
       "      <td>2</td>\n",
       "      <td>3.0</td>\n",
       "      <td>3.0</td>\n",
       "      <td>...</td>\n",
       "      <td>-</td>\n",
       "      <td>İkinci El</td>\n",
       "      <td>-</td>\n",
       "      <td>100.000 TL</td>\n",
       "      <td>-</td>\n",
       "      <td>Batı</td>\n",
       "      <td>https://www.hepsiemlak.com/istanbul-sariyer-ru...</td>\n",
       "      <td>160</td>\n",
       "      <td>150</td>\n",
       "      <td>0</td>\n",
       "    </tr>\n",
       "    <tr>\n",
       "      <th>4</th>\n",
       "      <td>DİAMOND DAN MAYA KEMER EVLERİ 2.ETAPTA 151 m2,...</td>\n",
       "      <td>140000</td>\n",
       "      <td>istanbul</td>\n",
       "      <td>Eyüpsultan</td>\n",
       "      <td>Mimar Sinan Mah.</td>\n",
       "      <td>Daire</td>\n",
       "      <td>3 + 1</td>\n",
       "      <td>2</td>\n",
       "      <td>-1.0</td>\n",
       "      <td>3.0</td>\n",
       "      <td>...</td>\n",
       "      <td>Betonarme</td>\n",
       "      <td>Sıfır</td>\n",
       "      <td>13.689 TL</td>\n",
       "      <td>270.000 TL</td>\n",
       "      <td>Doğalgaz</td>\n",
       "      <td>Güney, Doğu</td>\n",
       "      <td>https://www.hepsiemlak.com/istanbul-eyupsultan...</td>\n",
       "      <td>151</td>\n",
       "      <td>111</td>\n",
       "      <td>0</td>\n",
       "    </tr>\n",
       "  </tbody>\n",
       "</table>\n",
       "<p>5 rows × 23 columns</p>\n",
       "</div>"
      ],
      "text/plain": [
       "                                              Başlık   Fiyat     Şehir  \\\n",
       "0  ESENYURT CUMHURİYET MAH 1+1 KİRALIK SIFIR SİTE...   12000  istanbul   \n",
       "1  SIFIR SİTE İÇİ 1+1 KİRALIK DAİRE OTOPARKLI GÜV...   12000  istanbul   \n",
       "2  ESENYURT MEYDANDA MÜKEMMEL KONUMDA MASRAFSIZ 2...   14000  istanbul   \n",
       "3  Sarıyer Rumelikavağı Mahallesinde Deniz Manzar...   50000  istanbul   \n",
       "4  DİAMOND DAN MAYA KEMER EVLERİ 2.ETAPTA 151 m2,...  140000  istanbul   \n",
       "\n",
       "         İlçe                       Mahalle Konut Tipi Oda Sayısı  \\\n",
       "0    Esenyurt  Barbaros Hayrettin Paşa Mah.      Daire      1 + 1   \n",
       "1    Esenyurt              Mehterçeşme Mah.      Daire      1 + 1   \n",
       "2    Esenyurt                Yeşilkent Mah.      Daire      2 + 1   \n",
       "3     Sarıyer            Rumeli Kavağı Mah.      Daire      4 + 1   \n",
       "4  Eyüpsultan              Mimar Sinan Mah.      Daire      3 + 1   \n",
       "\n",
       "  Banyo Sayısı  Kat  Kat Sayısı  ...  Yapı Tipi Yapının Durumu      Aidat  \\\n",
       "0            1  8.0        10.0  ...  Betonarme          Sıfır     550 TL   \n",
       "1            1  5.0         5.0  ...  Betonarme          Sıfır   1.150 TL   \n",
       "2            1  1.0         4.0  ...  Betonarme      İkinci El     350 TL   \n",
       "3            2  3.0         3.0  ...          -      İkinci El          -   \n",
       "4            2 -1.0         3.0  ...  Betonarme          Sıfır  13.689 TL   \n",
       "\n",
       "     Depozito Yakıt Tipi         Cephe  \\\n",
       "0   20.000 TL   Doğalgaz         Güney   \n",
       "1   20.000 TL   Doğalgaz  Kuzey, Güney   \n",
       "2   30.000 TL   Doğalgaz         Güney   \n",
       "3  100.000 TL          -          Batı   \n",
       "4  270.000 TL   Doğalgaz   Güney, Doğu   \n",
       "\n",
       "                                                Link Brüt m2 Net m2  \\\n",
       "0  https://www.hepsiemlak.com/istanbul-esenyurt-b...      75     55   \n",
       "1  https://www.hepsiemlak.com/istanbul-esenyurt-m...      95     70   \n",
       "2  https://www.hepsiemlak.com/istanbul-esenyurt-y...     100     80   \n",
       "3  https://www.hepsiemlak.com/istanbul-sariyer-ru...     160    150   \n",
       "4  https://www.hepsiemlak.com/istanbul-eyupsultan...     151    111   \n",
       "\n",
       "  Konut Tipi Encoded  \n",
       "0                  0  \n",
       "1                  0  \n",
       "2                  0  \n",
       "3                  0  \n",
       "4                  0  \n",
       "\n",
       "[5 rows x 23 columns]"
      ]
     },
     "metadata": {},
     "output_type": "display_data"
    }
   ],
   "source": [
    "display(df.head(5))"
   ]
  },
  {
   "cell_type": "code",
   "execution_count": 235,
   "id": "97f7a14d-0628-4ae0-ab66-c25fb9b6028f",
   "metadata": {},
   "outputs": [
    {
     "data": {
      "text/plain": [
       "Eşya Durumu\n",
       "-                658\n",
       "Eşyalı          2541\n",
       "Eşyalı Değil    5694\n",
       "Name: count, dtype: int64"
      ]
     },
     "execution_count": 235,
     "metadata": {},
     "output_type": "execute_result"
    }
   ],
   "source": [
    "df['Eşya Durumu'].value_counts().sort_index()"
   ]
  },
  {
   "cell_type": "code",
   "execution_count": 237,
   "id": "6350caee-dc22-4485-acc9-0113035cbb47",
   "metadata": {},
   "outputs": [],
   "source": [
    "# \"-\" olanları \"Eşyalı Değil\" yap\n",
    "df['Eşya Durumu'] = df['Eşya Durumu'].replace(\"-\", \"Eşyalı Değil\")\n",
    "\n",
    "# Binary encode: Eşyalı → 1, Eşyalı Değil → 0\n",
    "df['Eşya Durumu'] = df['Eşya Durumu'].map({\"Eşyalı\": 1, \"Eşyalı Değil\": 0})\n"
   ]
  },
  {
   "cell_type": "code",
   "execution_count": 239,
   "id": "643a93eb-2ff6-4539-9637-91ea958c830d",
   "metadata": {},
   "outputs": [
    {
     "data": {
      "text/plain": [
       "Eşya Durumu\n",
       "0    6352\n",
       "1    2541\n",
       "Name: count, dtype: int64"
      ]
     },
     "execution_count": 239,
     "metadata": {},
     "output_type": "execute_result"
    }
   ],
   "source": [
    "df['Eşya Durumu'].value_counts().sort_index()"
   ]
  },
  {
   "cell_type": "code",
   "execution_count": 241,
   "id": "4cbdb960-156e-4156-8fd1-529cddb6b9f7",
   "metadata": {},
   "outputs": [
    {
     "name": "stdout",
     "output_type": "stream",
     "text": [
      "Oda Sayısı\n",
      "1      262\n",
      "2     1877\n",
      "3     3595\n",
      "4     2064\n",
      "5      550\n",
      "6      249\n",
      "7      150\n",
      "8       73\n",
      "9       23\n",
      "10      13\n",
      "Name: count, dtype: int64\n"
     ]
    }
   ],
   "source": [
    "import re\n",
    "\n",
    "def parse_room_number(x):\n",
    "    if isinstance(x, str):\n",
    "        x = x.strip()\n",
    "\n",
    "        # En yaygın format: \"3 + 1\"\n",
    "        match = re.match(r'(\\d+)\\s*\\+\\s*(\\d+)', x)\n",
    "        if match:\n",
    "            return int(match.group(1)) + int(match.group(2))\n",
    "\n",
    "        # Ondalık format: \"1.5 + 1\"\n",
    "        match = re.match(r'(\\d+\\.\\d+)\\s*\\+\\s*(\\d+)', x)\n",
    "        if match:\n",
    "            return float(match.group(1)) + int(match.group(2))\n",
    "\n",
    "        # \"Stüdyo\" gibi özel durum\n",
    "        if 'stüdyo' in x.lower():\n",
    "            return 1\n",
    "\n",
    "        # \"3 Oda\" gibi tek sayı formatları\n",
    "        match = re.match(r'(\\d+) Oda', x)\n",
    "        if match:\n",
    "            return int(match.group(1))\n",
    "\n",
    "        # Sadece sayı varsa\n",
    "        match = re.match(r'(\\d+)', x)\n",
    "        if match:\n",
    "            return int(match.group(1))\n",
    "\n",
    "    return 0  # tanımlanamayanlar için\n",
    "\n",
    "# Uygulama: Mevcut 'Oda Sayısı' sütunu üzerine yaz\n",
    "df['Oda Sayısı'] = df['Oda Sayısı'].apply(parse_room_number)\n",
    "\n",
    "# Uç değer temizliği (10'dan fazla olanları çıkar)\n",
    "df = df[df['Oda Sayısı'] <= 10].reset_index(drop=True)\n",
    "\n",
    "# Kontrol\n",
    "print(df['Oda Sayısı'].value_counts().sort_index())\n"
   ]
  },
  {
   "cell_type": "code",
   "execution_count": 243,
   "id": "589ba882-3e84-4eb6-af57-79437495e431",
   "metadata": {},
   "outputs": [
    {
     "data": {
      "text/plain": [
       "Başlık                  0\n",
       "Fiyat                   0\n",
       "Şehir                   0\n",
       "İlçe                    0\n",
       "Mahalle                 0\n",
       "Konut Tipi              0\n",
       "Oda Sayısı              0\n",
       "Banyo Sayısı            0\n",
       "Kat                   343\n",
       "Kat Sayısı              0\n",
       "Bina Yaşı               0\n",
       "Isınma Tipi             0\n",
       "Eşya Durumu             0\n",
       "Yapı Tipi               0\n",
       "Yapının Durumu          0\n",
       "Aidat                   0\n",
       "Depozito                0\n",
       "Yakıt Tipi              0\n",
       "Cephe                   0\n",
       "Link                    0\n",
       "Brüt m2                 0\n",
       "Net m2                  0\n",
       "Konut Tipi Encoded      0\n",
       "dtype: int64"
      ]
     },
     "execution_count": 243,
     "metadata": {},
     "output_type": "execute_result"
    }
   ],
   "source": [
    "df.isna().sum()"
   ]
  },
  {
   "cell_type": "code",
   "execution_count": 245,
   "id": "6d081dc1-fe3e-43d2-8365-9f0d116b7f06",
   "metadata": {},
   "outputs": [
    {
     "name": "stdout",
     "output_type": "stream",
     "text": [
      "0\n"
     ]
    }
   ],
   "source": [
    "df.loc[(df['Konut Tipi Encoded'] == 3) & (df['Kat'].isna()), 'Kat'] = 1\n",
    "df.loc[(df['Konut Tipi Encoded'] == 1) & (df['Kat'].isna()), 'Kat'] = 1\n",
    "\n",
    "\n",
    "# Kontrol: eksik Kat değeri kaldı mı?\n",
    "print(df['Kat'].isna().sum())\n"
   ]
  },
  {
   "cell_type": "code",
   "execution_count": 247,
   "id": "8655379a-666a-4a97-af31-bc37bc4cbfba",
   "metadata": {},
   "outputs": [
    {
     "data": {
      "text/plain": [
       "Başlık                0\n",
       "Fiyat                 0\n",
       "Şehir                 0\n",
       "İlçe                  0\n",
       "Mahalle               0\n",
       "Konut Tipi            0\n",
       "Oda Sayısı            0\n",
       "Banyo Sayısı          0\n",
       "Kat                   0\n",
       "Kat Sayısı            0\n",
       "Bina Yaşı             0\n",
       "Isınma Tipi           0\n",
       "Eşya Durumu           0\n",
       "Yapı Tipi             0\n",
       "Yapının Durumu        0\n",
       "Aidat                 0\n",
       "Depozito              0\n",
       "Yakıt Tipi            0\n",
       "Cephe                 0\n",
       "Link                  0\n",
       "Brüt m2               0\n",
       "Net m2                0\n",
       "Konut Tipi Encoded    0\n",
       "dtype: int64"
      ]
     },
     "execution_count": 247,
     "metadata": {},
     "output_type": "execute_result"
    }
   ],
   "source": [
    "df.isna().sum()"
   ]
  },
  {
   "cell_type": "code",
   "execution_count": 249,
   "id": "183702a9-e522-41ad-8382-0841407164a7",
   "metadata": {},
   "outputs": [
    {
     "data": {
      "text/plain": [
       "(8856, 23)"
      ]
     },
     "execution_count": 249,
     "metadata": {},
     "output_type": "execute_result"
    }
   ],
   "source": [
    "df.shape"
   ]
  },
  {
   "cell_type": "code",
   "execution_count": 251,
   "id": "b995c5f2-e01c-47b3-9f84-3b6ac2b91bf6",
   "metadata": {},
   "outputs": [
    {
     "data": {
      "text/plain": [
       "65"
      ]
     },
     "execution_count": 251,
     "metadata": {},
     "output_type": "execute_result"
    }
   ],
   "source": [
    "df[df[\"Banyo Sayısı\"] == \"-\"].shape[0]"
   ]
  },
  {
   "cell_type": "code",
   "execution_count": 253,
   "id": "5eff2cb1-20c8-41fa-a3cb-04cae1c05416",
   "metadata": {},
   "outputs": [],
   "source": [
    "import numpy as np\n",
    "\n",
    "def temizle_banyo_sayisi(x):\n",
    "    if isinstance(x, str):\n",
    "        x = x.strip().lower()\n",
    "        if \"yok\" in x:\n",
    "            return 0\n",
    "        elif \"ve üzeri\" in x:\n",
    "            return int(x.split()[0])  # örn: \"3 ve üzeri\" → 3\n",
    "        elif x.isdigit():\n",
    "            return int(x)\n",
    "    return np.nan  # sayı değilse veya eksikse\n",
    "\n",
    "df[\"Banyo Sayısı\"] = df[\"Banyo Sayısı\"].apply(temizle_banyo_sayisi).astype(\"Int64\")  # Nullable int\n"
   ]
  },
  {
   "cell_type": "code",
   "execution_count": 255,
   "id": "8a9a55f5-da92-4125-8768-4c83abeebd8d",
   "metadata": {},
   "outputs": [],
   "source": [
    "# Banyo sayısı eksikse 1 olarak güncelle\n",
    "df.loc[df[\"Banyo Sayısı\"].isna(), \"Banyo Sayısı\"] = 1\n",
    "df[\"Banyo Sayısı\"] = df[\"Banyo Sayısı\"].astype(\"Int64\")\n"
   ]
  },
  {
   "cell_type": "code",
   "execution_count": 257,
   "id": "2a9c5c45-deb7-4ebb-af0b-87fff3983675",
   "metadata": {},
   "outputs": [
    {
     "data": {
      "text/html": [
       "<div>\n",
       "<style scoped>\n",
       "    .dataframe tbody tr th:only-of-type {\n",
       "        vertical-align: middle;\n",
       "    }\n",
       "\n",
       "    .dataframe tbody tr th {\n",
       "        vertical-align: top;\n",
       "    }\n",
       "\n",
       "    .dataframe thead th {\n",
       "        text-align: right;\n",
       "    }\n",
       "</style>\n",
       "<table border=\"1\" class=\"dataframe\">\n",
       "  <thead>\n",
       "    <tr style=\"text-align: right;\">\n",
       "      <th></th>\n",
       "      <th>Başlık</th>\n",
       "      <th>Fiyat</th>\n",
       "      <th>Şehir</th>\n",
       "      <th>İlçe</th>\n",
       "      <th>Mahalle</th>\n",
       "      <th>Konut Tipi</th>\n",
       "      <th>Oda Sayısı</th>\n",
       "      <th>Banyo Sayısı</th>\n",
       "      <th>Kat</th>\n",
       "      <th>Kat Sayısı</th>\n",
       "      <th>...</th>\n",
       "      <th>Yapı Tipi</th>\n",
       "      <th>Yapının Durumu</th>\n",
       "      <th>Aidat</th>\n",
       "      <th>Depozito</th>\n",
       "      <th>Yakıt Tipi</th>\n",
       "      <th>Cephe</th>\n",
       "      <th>Link</th>\n",
       "      <th>Brüt m2</th>\n",
       "      <th>Net m2</th>\n",
       "      <th>Konut Tipi Encoded</th>\n",
       "    </tr>\n",
       "  </thead>\n",
       "  <tbody>\n",
       "    <tr>\n",
       "      <th>0</th>\n",
       "      <td>ESENYURT CUMHURİYET MAH 1+1 KİRALIK SIFIR SİTE...</td>\n",
       "      <td>12000</td>\n",
       "      <td>istanbul</td>\n",
       "      <td>Esenyurt</td>\n",
       "      <td>Barbaros Hayrettin Paşa Mah.</td>\n",
       "      <td>Daire</td>\n",
       "      <td>2</td>\n",
       "      <td>1</td>\n",
       "      <td>8.0</td>\n",
       "      <td>10.0</td>\n",
       "      <td>...</td>\n",
       "      <td>Betonarme</td>\n",
       "      <td>Sıfır</td>\n",
       "      <td>550 TL</td>\n",
       "      <td>20.000 TL</td>\n",
       "      <td>Doğalgaz</td>\n",
       "      <td>Güney</td>\n",
       "      <td>https://www.hepsiemlak.com/istanbul-esenyurt-b...</td>\n",
       "      <td>75</td>\n",
       "      <td>55</td>\n",
       "      <td>0</td>\n",
       "    </tr>\n",
       "    <tr>\n",
       "      <th>1</th>\n",
       "      <td>SIFIR SİTE İÇİ 1+1 KİRALIK DAİRE OTOPARKLI GÜV...</td>\n",
       "      <td>12000</td>\n",
       "      <td>istanbul</td>\n",
       "      <td>Esenyurt</td>\n",
       "      <td>Mehterçeşme Mah.</td>\n",
       "      <td>Daire</td>\n",
       "      <td>2</td>\n",
       "      <td>1</td>\n",
       "      <td>5.0</td>\n",
       "      <td>5.0</td>\n",
       "      <td>...</td>\n",
       "      <td>Betonarme</td>\n",
       "      <td>Sıfır</td>\n",
       "      <td>1.150 TL</td>\n",
       "      <td>20.000 TL</td>\n",
       "      <td>Doğalgaz</td>\n",
       "      <td>Kuzey, Güney</td>\n",
       "      <td>https://www.hepsiemlak.com/istanbul-esenyurt-m...</td>\n",
       "      <td>95</td>\n",
       "      <td>70</td>\n",
       "      <td>0</td>\n",
       "    </tr>\n",
       "    <tr>\n",
       "      <th>2</th>\n",
       "      <td>ESENYURT MEYDANDA MÜKEMMEL KONUMDA MASRAFSIZ 2...</td>\n",
       "      <td>14000</td>\n",
       "      <td>istanbul</td>\n",
       "      <td>Esenyurt</td>\n",
       "      <td>Yeşilkent Mah.</td>\n",
       "      <td>Daire</td>\n",
       "      <td>3</td>\n",
       "      <td>1</td>\n",
       "      <td>1.0</td>\n",
       "      <td>4.0</td>\n",
       "      <td>...</td>\n",
       "      <td>Betonarme</td>\n",
       "      <td>İkinci El</td>\n",
       "      <td>350 TL</td>\n",
       "      <td>30.000 TL</td>\n",
       "      <td>Doğalgaz</td>\n",
       "      <td>Güney</td>\n",
       "      <td>https://www.hepsiemlak.com/istanbul-esenyurt-y...</td>\n",
       "      <td>100</td>\n",
       "      <td>80</td>\n",
       "      <td>0</td>\n",
       "    </tr>\n",
       "    <tr>\n",
       "      <th>3</th>\n",
       "      <td>Sarıyer Rumelikavağı Mahallesinde Deniz Manzar...</td>\n",
       "      <td>50000</td>\n",
       "      <td>istanbul</td>\n",
       "      <td>Sarıyer</td>\n",
       "      <td>Rumeli Kavağı Mah.</td>\n",
       "      <td>Daire</td>\n",
       "      <td>5</td>\n",
       "      <td>2</td>\n",
       "      <td>3.0</td>\n",
       "      <td>3.0</td>\n",
       "      <td>...</td>\n",
       "      <td>-</td>\n",
       "      <td>İkinci El</td>\n",
       "      <td>-</td>\n",
       "      <td>100.000 TL</td>\n",
       "      <td>-</td>\n",
       "      <td>Batı</td>\n",
       "      <td>https://www.hepsiemlak.com/istanbul-sariyer-ru...</td>\n",
       "      <td>160</td>\n",
       "      <td>150</td>\n",
       "      <td>0</td>\n",
       "    </tr>\n",
       "    <tr>\n",
       "      <th>4</th>\n",
       "      <td>DİAMOND DAN MAYA KEMER EVLERİ 2.ETAPTA 151 m2,...</td>\n",
       "      <td>140000</td>\n",
       "      <td>istanbul</td>\n",
       "      <td>Eyüpsultan</td>\n",
       "      <td>Mimar Sinan Mah.</td>\n",
       "      <td>Daire</td>\n",
       "      <td>4</td>\n",
       "      <td>2</td>\n",
       "      <td>-1.0</td>\n",
       "      <td>3.0</td>\n",
       "      <td>...</td>\n",
       "      <td>Betonarme</td>\n",
       "      <td>Sıfır</td>\n",
       "      <td>13.689 TL</td>\n",
       "      <td>270.000 TL</td>\n",
       "      <td>Doğalgaz</td>\n",
       "      <td>Güney, Doğu</td>\n",
       "      <td>https://www.hepsiemlak.com/istanbul-eyupsultan...</td>\n",
       "      <td>151</td>\n",
       "      <td>111</td>\n",
       "      <td>0</td>\n",
       "    </tr>\n",
       "    <tr>\n",
       "      <th>5</th>\n",
       "      <td>Diamond Projeden Sarıyer Maden de Kiralık 4+1 ...</td>\n",
       "      <td>140000</td>\n",
       "      <td>istanbul</td>\n",
       "      <td>Sarıyer</td>\n",
       "      <td>Maden Mah.</td>\n",
       "      <td>Daire</td>\n",
       "      <td>5</td>\n",
       "      <td>3</td>\n",
       "      <td>2.0</td>\n",
       "      <td>3.0</td>\n",
       "      <td>...</td>\n",
       "      <td>Betonarme</td>\n",
       "      <td>İkinci El</td>\n",
       "      <td>10.000 TL</td>\n",
       "      <td>300.000 TL</td>\n",
       "      <td>Doğalgaz</td>\n",
       "      <td>Güney, Doğu</td>\n",
       "      <td>https://www.hepsiemlak.com/istanbul-sariyer-ma...</td>\n",
       "      <td>270</td>\n",
       "      <td>230</td>\n",
       "      <td>0</td>\n",
       "    </tr>\n",
       "    <tr>\n",
       "      <th>6</th>\n",
       "      <td>Diamond Proje den Zekeriyaköyde Mimari tasarım...</td>\n",
       "      <td>500000</td>\n",
       "      <td>istanbul</td>\n",
       "      <td>Sarıyer</td>\n",
       "      <td>Uskumruköy Mah.</td>\n",
       "      <td>Villa</td>\n",
       "      <td>7</td>\n",
       "      <td>3</td>\n",
       "      <td>1.0</td>\n",
       "      <td>3.0</td>\n",
       "      <td>...</td>\n",
       "      <td>Betonarme</td>\n",
       "      <td>İkinci El</td>\n",
       "      <td>5.000 TL</td>\n",
       "      <td>1.500.000 TL</td>\n",
       "      <td>Doğalgaz</td>\n",
       "      <td>Kuzey, Doğu, Batı</td>\n",
       "      <td>https://www.hepsiemlak.com/istanbul-sariyer-us...</td>\n",
       "      <td>500</td>\n",
       "      <td>350</td>\n",
       "      <td>3</td>\n",
       "    </tr>\n",
       "    <tr>\n",
       "      <th>7</th>\n",
       "      <td>BEBEK SAHİLDE DENİZ MANZARA ÖZEL TERASLI KİRAL...</td>\n",
       "      <td>290000</td>\n",
       "      <td>istanbul</td>\n",
       "      <td>Beşiktaş</td>\n",
       "      <td>Bebek Mah.</td>\n",
       "      <td>Daire</td>\n",
       "      <td>4</td>\n",
       "      <td>2</td>\n",
       "      <td>22.0</td>\n",
       "      <td>3.0</td>\n",
       "      <td>...</td>\n",
       "      <td>Betonarme</td>\n",
       "      <td>İkinci El</td>\n",
       "      <td>1 TL</td>\n",
       "      <td>-</td>\n",
       "      <td>Doğalgaz</td>\n",
       "      <td>Güney, Doğu, Batı</td>\n",
       "      <td>https://www.hepsiemlak.com/istanbul-besiktas-b...</td>\n",
       "      <td>390</td>\n",
       "      <td>310</td>\n",
       "      <td>0</td>\n",
       "    </tr>\n",
       "    <tr>\n",
       "      <th>8</th>\n",
       "      <td>ÜSKÜDAR 'DA LOKASYON OLARAK ÇOK MERKEZİ, 2+1 ,...</td>\n",
       "      <td>50000</td>\n",
       "      <td>istanbul</td>\n",
       "      <td>Üsküdar</td>\n",
       "      <td>Aziz Mahmut Hüdayi Mah.</td>\n",
       "      <td>Daire</td>\n",
       "      <td>3</td>\n",
       "      <td>1</td>\n",
       "      <td>1.0</td>\n",
       "      <td>4.0</td>\n",
       "      <td>...</td>\n",
       "      <td>Betonarme</td>\n",
       "      <td>İkinci El</td>\n",
       "      <td>100 TL</td>\n",
       "      <td>100.000 TL</td>\n",
       "      <td>-</td>\n",
       "      <td>-</td>\n",
       "      <td>https://www.hepsiemlak.com/istanbul-uskudar-az...</td>\n",
       "      <td>100</td>\n",
       "      <td>85</td>\n",
       "      <td>0</td>\n",
       "    </tr>\n",
       "    <tr>\n",
       "      <th>9</th>\n",
       "      <td>GÖKTÜRK İZ EVLER SİTESİ'NDE 3+1 DAİRE</td>\n",
       "      <td>70000</td>\n",
       "      <td>istanbul</td>\n",
       "      <td>Eyüpsultan</td>\n",
       "      <td>Göktürk Merkez Mah.</td>\n",
       "      <td>Daire</td>\n",
       "      <td>4</td>\n",
       "      <td>2</td>\n",
       "      <td>1.0</td>\n",
       "      <td>4.0</td>\n",
       "      <td>...</td>\n",
       "      <td>-</td>\n",
       "      <td>-</td>\n",
       "      <td>-</td>\n",
       "      <td>-</td>\n",
       "      <td>Doğalgaz</td>\n",
       "      <td>-</td>\n",
       "      <td>https://www.hepsiemlak.com/istanbul-eyupsultan...</td>\n",
       "      <td>178</td>\n",
       "      <td>160</td>\n",
       "      <td>0</td>\n",
       "    </tr>\n",
       "  </tbody>\n",
       "</table>\n",
       "<p>10 rows × 23 columns</p>\n",
       "</div>"
      ],
      "text/plain": [
       "                                              Başlık   Fiyat     Şehir  \\\n",
       "0  ESENYURT CUMHURİYET MAH 1+1 KİRALIK SIFIR SİTE...   12000  istanbul   \n",
       "1  SIFIR SİTE İÇİ 1+1 KİRALIK DAİRE OTOPARKLI GÜV...   12000  istanbul   \n",
       "2  ESENYURT MEYDANDA MÜKEMMEL KONUMDA MASRAFSIZ 2...   14000  istanbul   \n",
       "3  Sarıyer Rumelikavağı Mahallesinde Deniz Manzar...   50000  istanbul   \n",
       "4  DİAMOND DAN MAYA KEMER EVLERİ 2.ETAPTA 151 m2,...  140000  istanbul   \n",
       "5  Diamond Projeden Sarıyer Maden de Kiralık 4+1 ...  140000  istanbul   \n",
       "6  Diamond Proje den Zekeriyaköyde Mimari tasarım...  500000  istanbul   \n",
       "7  BEBEK SAHİLDE DENİZ MANZARA ÖZEL TERASLI KİRAL...  290000  istanbul   \n",
       "8  ÜSKÜDAR 'DA LOKASYON OLARAK ÇOK MERKEZİ, 2+1 ,...   50000  istanbul   \n",
       "9              GÖKTÜRK İZ EVLER SİTESİ'NDE 3+1 DAİRE   70000  istanbul   \n",
       "\n",
       "         İlçe                       Mahalle Konut Tipi  Oda Sayısı  \\\n",
       "0    Esenyurt  Barbaros Hayrettin Paşa Mah.      Daire           2   \n",
       "1    Esenyurt              Mehterçeşme Mah.      Daire           2   \n",
       "2    Esenyurt                Yeşilkent Mah.      Daire           3   \n",
       "3     Sarıyer            Rumeli Kavağı Mah.      Daire           5   \n",
       "4  Eyüpsultan              Mimar Sinan Mah.      Daire           4   \n",
       "5     Sarıyer                    Maden Mah.      Daire           5   \n",
       "6     Sarıyer               Uskumruköy Mah.      Villa           7   \n",
       "7    Beşiktaş                    Bebek Mah.      Daire           4   \n",
       "8     Üsküdar       Aziz Mahmut Hüdayi Mah.      Daire           3   \n",
       "9  Eyüpsultan           Göktürk Merkez Mah.      Daire           4   \n",
       "\n",
       "   Banyo Sayısı   Kat  Kat Sayısı  ...  Yapı Tipi Yapının Durumu      Aidat  \\\n",
       "0             1   8.0        10.0  ...  Betonarme          Sıfır     550 TL   \n",
       "1             1   5.0         5.0  ...  Betonarme          Sıfır   1.150 TL   \n",
       "2             1   1.0         4.0  ...  Betonarme      İkinci El     350 TL   \n",
       "3             2   3.0         3.0  ...          -      İkinci El          -   \n",
       "4             2  -1.0         3.0  ...  Betonarme          Sıfır  13.689 TL   \n",
       "5             3   2.0         3.0  ...  Betonarme      İkinci El  10.000 TL   \n",
       "6             3   1.0         3.0  ...  Betonarme      İkinci El   5.000 TL   \n",
       "7             2  22.0         3.0  ...  Betonarme      İkinci El       1 TL   \n",
       "8             1   1.0         4.0  ...  Betonarme      İkinci El     100 TL   \n",
       "9             2   1.0         4.0  ...          -              -          -   \n",
       "\n",
       "       Depozito Yakıt Tipi              Cephe  \\\n",
       "0     20.000 TL   Doğalgaz              Güney   \n",
       "1     20.000 TL   Doğalgaz       Kuzey, Güney   \n",
       "2     30.000 TL   Doğalgaz              Güney   \n",
       "3    100.000 TL          -               Batı   \n",
       "4    270.000 TL   Doğalgaz        Güney, Doğu   \n",
       "5    300.000 TL   Doğalgaz        Güney, Doğu   \n",
       "6  1.500.000 TL   Doğalgaz  Kuzey, Doğu, Batı   \n",
       "7             -   Doğalgaz  Güney, Doğu, Batı   \n",
       "8    100.000 TL          -                  -   \n",
       "9             -   Doğalgaz                  -   \n",
       "\n",
       "                                                Link Brüt m2 Net m2  \\\n",
       "0  https://www.hepsiemlak.com/istanbul-esenyurt-b...      75     55   \n",
       "1  https://www.hepsiemlak.com/istanbul-esenyurt-m...      95     70   \n",
       "2  https://www.hepsiemlak.com/istanbul-esenyurt-y...     100     80   \n",
       "3  https://www.hepsiemlak.com/istanbul-sariyer-ru...     160    150   \n",
       "4  https://www.hepsiemlak.com/istanbul-eyupsultan...     151    111   \n",
       "5  https://www.hepsiemlak.com/istanbul-sariyer-ma...     270    230   \n",
       "6  https://www.hepsiemlak.com/istanbul-sariyer-us...     500    350   \n",
       "7  https://www.hepsiemlak.com/istanbul-besiktas-b...     390    310   \n",
       "8  https://www.hepsiemlak.com/istanbul-uskudar-az...     100     85   \n",
       "9  https://www.hepsiemlak.com/istanbul-eyupsultan...     178    160   \n",
       "\n",
       "  Konut Tipi Encoded  \n",
       "0                  0  \n",
       "1                  0  \n",
       "2                  0  \n",
       "3                  0  \n",
       "4                  0  \n",
       "5                  0  \n",
       "6                  3  \n",
       "7                  0  \n",
       "8                  0  \n",
       "9                  0  \n",
       "\n",
       "[10 rows x 23 columns]"
      ]
     },
     "metadata": {},
     "output_type": "display_data"
    }
   ],
   "source": [
    "display(df.head(10))"
   ]
  },
  {
   "cell_type": "code",
   "execution_count": 259,
   "id": "31c4fc3d-0bf9-4a80-aca0-11cefb5fb8bc",
   "metadata": {},
   "outputs": [
    {
     "name": "stdout",
     "output_type": "stream",
     "text": [
      "['Sıfır Bina' '3 Yaşında' '49 Yaşında' '1 Yaşında' '7 Yaşında' '5 Yaşında'\n",
      " '21 Yaşında' '30 Yaşında' '10 Yaşında' '4 Yaşında' '25 Yaşında'\n",
      " '70 Yaşında' '11 Yaşında' '35 Yaşında' '18 Yaşında' '9 Yaşında'\n",
      " '12 Yaşında' '26 Yaşında' '20 Yaşında' '16 Yaşında' '31 Yaşında'\n",
      " '33 Yaşında' '19 Yaşında' '32 Yaşında' '55 Yaşında' '40 Yaşında'\n",
      " '8 Yaşında' '2 Yaşında' '27 Yaşında' '24 Yaşında' '17 Yaşında'\n",
      " '15 Yaşında' '14 Yaşında' '115 Yaşında' '6 Yaşında' '13 Yaşında'\n",
      " '28 Yaşında' '39 Yaşında' '38 Yaşında' '45 Yaşında' '50 Yaşında'\n",
      " '37 Yaşında' '22 Yaşında' '29 Yaşında' '36 Yaşında' '23 Yaşında'\n",
      " '48 Yaşında' '34 Yaşında' '80 Yaşında' '85 Yaşında' '120 Yaşında'\n",
      " '97 Yaşında' '42 Yaşında' '60 Yaşında' '47 Yaşında' '114 Yaşında'\n",
      " '46 Yaşında' '43 Yaşında' '75 Yaşında' '128 Yaşında' '63 Yaşında'\n",
      " '54 Yaşında' '90 Yaşında' '95 Yaşında' '65 Yaşında' '100 Yaşında'\n",
      " '44 Yaşında' '41 Yaşında' '58 Yaşında' '130 Yaşında' '57 Yaşında'\n",
      " '53 Yaşında' '99 Yaşında' '-' '52 Yaşında' '110 Yaşında' '91 Yaşında'\n",
      " '253 Yaşında' '1864 Yaşında']\n"
     ]
    }
   ],
   "source": [
    "print(df['Bina Yaşı'].unique())"
   ]
  },
  {
   "cell_type": "code",
   "execution_count": 261,
   "id": "6943d466-0c6b-4eea-8b7c-0e7619a309bd",
   "metadata": {},
   "outputs": [
    {
     "data": {
      "text/plain": [
       "3"
      ]
     },
     "execution_count": 261,
     "metadata": {},
     "output_type": "execute_result"
    }
   ],
   "source": [
    "df[df[\"Bina Yaşı\"] == \"-\"].shape[0]"
   ]
  },
  {
   "cell_type": "code",
   "execution_count": 263,
   "id": "b38dfd5f-11e2-415a-b033-c6c48d00bcfc",
   "metadata": {},
   "outputs": [],
   "source": [
    "import numpy as np\n",
    "import re\n",
    "\n",
    "def bina_yasi_sayisal(x):\n",
    "    if isinstance(x, str):\n",
    "        x = x.strip()\n",
    "        if x.lower() == \"sıfır bina\" or x == \"-\":\n",
    "            return 0  # Hem 'Sıfır Bina' hem '-' → 0 olarak değerlendiriliyor\n",
    "        match = re.search(r'(\\d+)', x)\n",
    "        if match:\n",
    "            return int(match.group(1))\n",
    "    return np.nan\n",
    "\n",
    "df[\"Bina Yaşı\"] = df[\"Bina Yaşı\"].apply(bina_yasi_sayisal).astype(\"Int64\")\n",
    "\n"
   ]
  },
  {
   "cell_type": "code",
   "execution_count": 265,
   "id": "f0b37272-708b-4b3c-84ba-5ef8f9b3381e",
   "metadata": {},
   "outputs": [
    {
     "name": "stdout",
     "output_type": "stream",
     "text": [
      "0\n"
     ]
    }
   ],
   "source": [
    "print(df[\"Bina Yaşı\"].isna().sum())\n"
   ]
  },
  {
   "cell_type": "code",
   "execution_count": 267,
   "id": "b775bbe8-ed5c-456d-aa6d-6b5faa96f908",
   "metadata": {},
   "outputs": [
    {
     "name": "stdout",
     "output_type": "stream",
     "text": [
      "<IntegerArray>\n",
      "[   0,    3,   49,    1,    7,    5,   21,   30,   10,    4,   25,   70,   11,\n",
      "   35,   18,    9,   12,   26,   20,   16,   31,   33,   19,   32,   55,   40,\n",
      "    8,    2,   27,   24,   17,   15,   14,  115,    6,   13,   28,   39,   38,\n",
      "   45,   50,   37,   22,   29,   36,   23,   48,   34,   80,   85,  120,   97,\n",
      "   42,   60,   47,  114,   46,   43,   75,  128,   63,   54,   90,   95,   65,\n",
      "  100,   44,   41,   58,  130,   57,   53,   99,   52,  110,   91,  253, 1864]\n",
      "Length: 78, dtype: Int64\n"
     ]
    }
   ],
   "source": [
    "print(df['Bina Yaşı'].unique())"
   ]
  },
  {
   "cell_type": "code",
   "execution_count": 269,
   "id": "6a2c9533-7f53-4843-ac6d-4dce1d179bac",
   "metadata": {},
   "outputs": [],
   "source": [
    "from sklearn.preprocessing import LabelEncoder\n",
    "\n",
    "# Şehir - Label Encoding\n",
    "le_sehir = LabelEncoder()\n",
    "df['Şehir'] = le_sehir.fit_transform(df['Şehir'])\n",
    "\n",
    "# İlçe - Mean Target Encoding\n",
    "ilce_fiyat_ort = df.groupby('İlçe')['Fiyat'].mean()\n",
    "df['İlçe Encoded'] = df['İlçe'].map(ilce_fiyat_ort)\n",
    "\n",
    "# Mahalle - Mean Target Encoding\n",
    "mahalle_fiyat_ort = df.groupby('Mahalle')['Fiyat'].mean()\n",
    "df['Mahalle Encoded'] = df['Mahalle'].map(mahalle_fiyat_ort)\n"
   ]
  },
  {
   "cell_type": "code",
   "execution_count": 271,
   "id": "641ea9ae-c94d-4323-b15e-516fc01927dd",
   "metadata": {},
   "outputs": [
    {
     "data": {
      "text/plain": [
       "4899"
      ]
     },
     "execution_count": 271,
     "metadata": {},
     "output_type": "execute_result"
    }
   ],
   "source": [
    "df[df[\"Aidat\"] == \"-\"].shape[0]"
   ]
  },
  {
   "cell_type": "code",
   "execution_count": 273,
   "id": "afbf30c0-187f-4eda-bfb1-1e2113da235d",
   "metadata": {},
   "outputs": [
    {
     "data": {
      "text/plain": [
       "Konut Tipi\n",
       "Daire        4018\n",
       "Residence     598\n",
       "Villa         196\n",
       "Diğer          87\n",
       "Name: count, dtype: int64"
      ]
     },
     "execution_count": 273,
     "metadata": {},
     "output_type": "execute_result"
    }
   ],
   "source": [
    "df[df['Aidat'] == \"-\"]['Konut Tipi'].value_counts()\n"
   ]
  },
  {
   "cell_type": "code",
   "execution_count": 275,
   "id": "0cc9b026-3723-4902-a2c3-a0b951e7fef8",
   "metadata": {},
   "outputs": [
    {
     "data": {
      "text/plain": [
       "3619"
      ]
     },
     "execution_count": 275,
     "metadata": {},
     "output_type": "execute_result"
    }
   ],
   "source": [
    "df[df[\"Depozito\"] == \"-\"].shape[0]"
   ]
  },
  {
   "cell_type": "code",
   "execution_count": 277,
   "id": "ccf6bee9-5432-4a0d-a68a-d9ac4e066578",
   "metadata": {},
   "outputs": [
    {
     "name": "stdout",
     "output_type": "stream",
     "text": [
      "Aidat null sayısı: 0\n",
      "Depozito null sayısı: 0\n"
     ]
    }
   ],
   "source": [
    "import numpy as np\n",
    "\n",
    "# Aidat ve Depozito: \"-\" olanları NaN yap\n",
    "df['Aidat'] = df['Aidat'].replace(\"-\", np.nan)\n",
    "df['Depozito'] = df['Depozito'].replace(\"-\", np.nan)\n",
    "\n",
    "# Sadece string olanlara temizlik uygula\n",
    "for col in ['Aidat', 'Depozito']:\n",
    "    if df[col].dtype == 'object':\n",
    "        df[col] = df[col].str.replace(\".\", \"\", regex=False)\n",
    "        df[col] = df[col].str.replace(\" TL\", \"\", regex=False)\n",
    "\n",
    "# Sayıya çevir\n",
    "df['Aidat'] = pd.to_numeric(df['Aidat'], errors='coerce')\n",
    "df['Depozito'] = pd.to_numeric(df['Depozito'], errors='coerce')\n",
    "\n",
    "# Gerçek veri olmayan yerleri (NaN) doğrudan fiyat oranına göre doldur\n",
    "df['Aidat'] = df['Aidat'].fillna(df['Fiyat'] * 0.07)        # ortalama %7\n",
    "df['Depozito'] = df['Depozito'].fillna(df['Fiyat'] * 1.5)   # ortalama 1.5 kira\n",
    "\n",
    "# Sayıları tam sayıya yuvarla\n",
    "df['Aidat'] = df['Aidat'].round().astype(int)\n",
    "df['Depozito'] = df['Depozito'].round().astype(int)\n",
    "\n",
    "# Kontrol\n",
    "print(\"Aidat null sayısı:\", df['Aidat'].isna().sum())\n",
    "print(\"Depozito null sayısı:\", df['Depozito'].isna().sum())\n",
    "\n",
    "\n"
   ]
  },
  {
   "cell_type": "code",
   "execution_count": 279,
   "id": "c84e6b22-564c-46dc-b6b7-c8dfb2d46cd4",
   "metadata": {},
   "outputs": [
    {
     "name": "stdout",
     "output_type": "stream",
     "text": [
      "['Merkezi (Pay Öl...' 'Kombi' 'Yerden Isıtma' 'Belirtilmemiş' 'Merkezi'\n",
      " 'Doğalgaz Sobası' 'Fancoil Ünitesi' 'Isıtma Yok' 'Klima' 'Soba'\n",
      " 'Merkezi (Pay Ölçer)' 'VRV' 'Kat Kaloriferi' 'Jeotermal Isıtma'\n",
      " 'Güneş Enerjisi' '-']\n"
     ]
    }
   ],
   "source": [
    "print(df['Isınma Tipi'].unique())"
   ]
  },
  {
   "cell_type": "code",
   "execution_count": 281,
   "id": "e67cd517-075a-4dc7-83a5-44ec974b48e4",
   "metadata": {},
   "outputs": [
    {
     "data": {
      "text/plain": [
       "3"
      ]
     },
     "execution_count": 281,
     "metadata": {},
     "output_type": "execute_result"
    }
   ],
   "source": [
    "df[df[\"Isınma Tipi\"] == \"-\"].shape[0]"
   ]
  },
  {
   "cell_type": "code",
   "execution_count": 283,
   "id": "ef305096-1af8-4b41-9bf4-5c80598b8b17",
   "metadata": {},
   "outputs": [
    {
     "name": "stdout",
     "output_type": "stream",
     "text": [
      "Isınma tipi kodlamaları: {0: 'Diğer', 1: 'Fancoil Ünitesi', 2: 'Isıtma Yok', 3: 'Kat Kaloriferi', 4: 'Klima', 5: 'Kombi', 6: 'Merkezi', 7: 'Soba', 8: 'Yerden Isıtma'}\n"
     ]
    }
   ],
   "source": [
    "from sklearn.preprocessing import LabelEncoder\n",
    "\n",
    "# Isınma tiplerini grupla\n",
    "isinma_mapping = {\n",
    "    'Merkezi': 'Merkezi', \n",
    "    'Merkezi (Pay Ölçer)': 'Merkezi',\n",
    "    'Merkezi (Pay Öl...': 'Merkezi',\n",
    "    \n",
    "    'Soba': 'Soba',\n",
    "    'Doğalgaz Sobası': 'Soba',\n",
    "\n",
    "    'Kombi': 'Kombi',\n",
    "    'Yerden Isıtma': 'Yerden Isıtma',\n",
    "    'Kat Kaloriferi': 'Kat Kaloriferi',\n",
    "    'Isıtma Yok': 'Isıtma Yok',\n",
    "    'Klima': 'Klima',\n",
    "    'Fancoil Ünitesi': 'Fancoil Ünitesi',\n",
    "    'VRV': 'VRV',\n",
    "    'Jeotermal Isıtma': 'Diğer',\n",
    "    'Güneş Enerjisi': 'Diğer',\n",
    "    'Belirtilmemiş': 'Kombi',  # Eksikse Kombi varsayılmıştı\n",
    "    '-': 'Kombi'               # Eksikse Kombi varsayılmıştı\n",
    "}\n",
    "\n",
    "# Eşleştir\n",
    "df['Isınma Tipi'] = df['Isınma Tipi'].replace(isinma_mapping)\n",
    "\n",
    "# Nadir olanları \"Diğer\" olarak birleştir\n",
    "counts = df['Isınma Tipi'].value_counts()\n",
    "rare_classes = counts[counts < 50].index.tolist()\n",
    "df['Isınma Tipi'] = df['Isınma Tipi'].apply(lambda x: 'Diğer' if x in rare_classes else x)\n",
    "\n",
    "# Label Encoding\n",
    "le_isinma = LabelEncoder()\n",
    "df['Isınma Tipi Encoded'] = le_isinma.fit_transform(df['Isınma Tipi'])\n",
    "\n",
    "# Kategori eşleştirmelerini yazdır\n",
    "isinma_categories = dict(enumerate(le_isinma.classes_))\n",
    "print(\"Isınma tipi kodlamaları:\", isinma_categories)\n"
   ]
  },
  {
   "cell_type": "code",
   "execution_count": 285,
   "id": "3c5170e3-1956-4ea0-8e3c-c63002630d47",
   "metadata": {},
   "outputs": [
    {
     "name": "stdout",
     "output_type": "stream",
     "text": [
      "Isınma Tipi\n",
      "Kombi              5981\n",
      "Merkezi            2139\n",
      "Yerden Isıtma       247\n",
      "Soba                180\n",
      "Klima               104\n",
      "Isıtma Yok           62\n",
      "Kat Kaloriferi       57\n",
      "Fancoil Ünitesi      50\n",
      "Diğer                36\n",
      "Name: count, dtype: int64\n"
     ]
    }
   ],
   "source": [
    "print(df['Isınma Tipi'].value_counts())"
   ]
  },
  {
   "cell_type": "code",
   "execution_count": 287,
   "id": "f9c306fb-2155-44cc-84f3-dd6b1e4f718c",
   "metadata": {},
   "outputs": [
    {
     "name": "stdout",
     "output_type": "stream",
     "text": [
      "['Doğalgaz' '-' 'Elektrik' 'Akaryakıt' 'Kömür-Odun']\n"
     ]
    }
   ],
   "source": [
    "print(df['Yakıt Tipi'].unique())"
   ]
  },
  {
   "cell_type": "code",
   "execution_count": 289,
   "id": "85b8f3a7-cf50-4626-b590-ab531c020aaa",
   "metadata": {},
   "outputs": [
    {
     "name": "stdout",
     "output_type": "stream",
     "text": [
      "Yakıt Tipi\n",
      "Doğalgaz      6582\n",
      "-             2023\n",
      "Elektrik       201\n",
      "Kömür-Odun      43\n",
      "Akaryakıt        7\n",
      "Name: count, dtype: int64\n"
     ]
    }
   ],
   "source": [
    "print(df['Yakıt Tipi'].value_counts())"
   ]
  },
  {
   "cell_type": "code",
   "execution_count": 291,
   "id": "74ddb7c8-f722-4dea-bc1b-e3c131de9fcf",
   "metadata": {},
   "outputs": [
    {
     "name": "stdout",
     "output_type": "stream",
     "text": [
      "Yakıt tipi kodlamaları: {0: 'Diğer', 1: 'Doğalgaz', 2: 'Elektrik'}\n"
     ]
    }
   ],
   "source": [
    "# Eksik değerleri \"Doğalgaz\" ile doldur\n",
    "df['Yakıt Tipi'] = df['Yakıt Tipi'].replace(\"-\", \"Doğalgaz\")\n",
    "\n",
    "# Az sayıda olanları \"Diğer\" kategorisine al\n",
    "az_yakıtlar = ['Akaryakıt', 'Kömür-Odun']\n",
    "df['Yakıt Tipi'] = df['Yakıt Tipi'].apply(lambda x: 'Diğer' if x in az_yakıtlar else x)\n",
    "\n",
    "# Label Encoding (model için sayısal hale getirme)\n",
    "from sklearn.preprocessing import LabelEncoder\n",
    "le_yakit = LabelEncoder()\n",
    "df['Yakıt Tipi Encoded'] = le_yakit.fit_transform(df['Yakıt Tipi'])\n",
    "\n",
    "# Eşleştirme sözlüğü\n",
    "yakit_mapping = dict(enumerate(le_yakit.classes_))\n",
    "print(\"Yakıt tipi kodlamaları:\", yakit_mapping)\n"
   ]
  },
  {
   "cell_type": "code",
   "execution_count": 293,
   "id": "3e411346-4320-467a-a3f6-5214a7e344c1",
   "metadata": {},
   "outputs": [
    {
     "name": "stdout",
     "output_type": "stream",
     "text": [
      "['Betonarme' '-' 'Çelik' 'Kagir' 'Yığma' 'Ahşap' 'Taş Bina' 'Prefabrik']\n"
     ]
    }
   ],
   "source": [
    "print(df['Yapı Tipi'].unique())"
   ]
  },
  {
   "cell_type": "code",
   "execution_count": 295,
   "id": "1d097b0b-66cb-4267-b8e4-95040b3532bb",
   "metadata": {},
   "outputs": [
    {
     "name": "stdout",
     "output_type": "stream",
     "text": [
      "Yapı Tipi\n",
      "Betonarme    6135\n",
      "-            2491\n",
      "Kagir         102\n",
      "Çelik          61\n",
      "Ahşap          27\n",
      "Yığma          24\n",
      "Taş Bina       15\n",
      "Prefabrik       1\n",
      "Name: count, dtype: int64\n"
     ]
    }
   ],
   "source": [
    "print(df['Yapı Tipi'].value_counts())"
   ]
  },
  {
   "cell_type": "code",
   "execution_count": 297,
   "id": "a4173b2d-824d-4a95-aaf5-7828db70dc1b",
   "metadata": {},
   "outputs": [
    {
     "name": "stdout",
     "output_type": "stream",
     "text": [
      "Yapı tipi kodlamaları: {0: 'Betonarme', 1: 'Diğer'}\n"
     ]
    }
   ],
   "source": [
    "# \"-\" değerlerini en yaygın olan \"Betonarme\" ile doldur\n",
    "df['Yapı Tipi'] = df['Yapı Tipi'].replace(\"-\", \"Betonarme\")\n",
    "\n",
    "# Az görülenleri \"Diğer\" olarak grupla\n",
    "az_yapilar = ['Çelik', 'Kagir', 'Yığma', 'Ahşap', 'Taş Bina', 'Prefabrik']\n",
    "df['Yapı Tipi'] = df['Yapı Tipi'].apply(lambda x: 'Diğer' if x in az_yapilar else x)\n",
    "\n",
    "# Label Encoding\n",
    "from sklearn.preprocessing import LabelEncoder\n",
    "le_yapi = LabelEncoder()\n",
    "df['Yapı Tipi Encoded'] = le_yapi.fit_transform(df['Yapı Tipi'])\n",
    "\n",
    "# Eşleştirmeyi yazdıralım\n",
    "yapi_mapping = dict(enumerate(le_yapi.classes_))\n",
    "print(\"Yapı tipi kodlamaları:\", yapi_mapping)\n"
   ]
  },
  {
   "cell_type": "code",
   "execution_count": 299,
   "id": "a84ebc02-d4f6-4cec-ba6b-09144c04181e",
   "metadata": {},
   "outputs": [
    {
     "data": {
      "text/html": [
       "<div>\n",
       "<style scoped>\n",
       "    .dataframe tbody tr th:only-of-type {\n",
       "        vertical-align: middle;\n",
       "    }\n",
       "\n",
       "    .dataframe tbody tr th {\n",
       "        vertical-align: top;\n",
       "    }\n",
       "\n",
       "    .dataframe thead th {\n",
       "        text-align: right;\n",
       "    }\n",
       "</style>\n",
       "<table border=\"1\" class=\"dataframe\">\n",
       "  <thead>\n",
       "    <tr style=\"text-align: right;\">\n",
       "      <th></th>\n",
       "      <th>Başlık</th>\n",
       "      <th>Fiyat</th>\n",
       "      <th>Şehir</th>\n",
       "      <th>İlçe</th>\n",
       "      <th>Mahalle</th>\n",
       "      <th>Konut Tipi</th>\n",
       "      <th>Oda Sayısı</th>\n",
       "      <th>Banyo Sayısı</th>\n",
       "      <th>Kat</th>\n",
       "      <th>Kat Sayısı</th>\n",
       "      <th>...</th>\n",
       "      <th>Cephe</th>\n",
       "      <th>Link</th>\n",
       "      <th>Brüt m2</th>\n",
       "      <th>Net m2</th>\n",
       "      <th>Konut Tipi Encoded</th>\n",
       "      <th>İlçe Encoded</th>\n",
       "      <th>Mahalle Encoded</th>\n",
       "      <th>Isınma Tipi Encoded</th>\n",
       "      <th>Yakıt Tipi Encoded</th>\n",
       "      <th>Yapı Tipi Encoded</th>\n",
       "    </tr>\n",
       "  </thead>\n",
       "  <tbody>\n",
       "    <tr>\n",
       "      <th>0</th>\n",
       "      <td>ESENYURT CUMHURİYET MAH 1+1 KİRALIK SIFIR SİTE...</td>\n",
       "      <td>12000</td>\n",
       "      <td>0</td>\n",
       "      <td>Esenyurt</td>\n",
       "      <td>Barbaros Hayrettin Paşa Mah.</td>\n",
       "      <td>Daire</td>\n",
       "      <td>2</td>\n",
       "      <td>1</td>\n",
       "      <td>8.0</td>\n",
       "      <td>10.0</td>\n",
       "      <td>...</td>\n",
       "      <td>Güney</td>\n",
       "      <td>https://www.hepsiemlak.com/istanbul-esenyurt-b...</td>\n",
       "      <td>75</td>\n",
       "      <td>55</td>\n",
       "      <td>0</td>\n",
       "      <td>20686.823529</td>\n",
       "      <td>19442.307692</td>\n",
       "      <td>6</td>\n",
       "      <td>1</td>\n",
       "      <td>0</td>\n",
       "    </tr>\n",
       "    <tr>\n",
       "      <th>1</th>\n",
       "      <td>SIFIR SİTE İÇİ 1+1 KİRALIK DAİRE OTOPARKLI GÜV...</td>\n",
       "      <td>12000</td>\n",
       "      <td>0</td>\n",
       "      <td>Esenyurt</td>\n",
       "      <td>Mehterçeşme Mah.</td>\n",
       "      <td>Daire</td>\n",
       "      <td>2</td>\n",
       "      <td>1</td>\n",
       "      <td>5.0</td>\n",
       "      <td>5.0</td>\n",
       "      <td>...</td>\n",
       "      <td>Kuzey, Güney</td>\n",
       "      <td>https://www.hepsiemlak.com/istanbul-esenyurt-m...</td>\n",
       "      <td>95</td>\n",
       "      <td>70</td>\n",
       "      <td>0</td>\n",
       "      <td>20686.823529</td>\n",
       "      <td>15300.000000</td>\n",
       "      <td>5</td>\n",
       "      <td>1</td>\n",
       "      <td>0</td>\n",
       "    </tr>\n",
       "    <tr>\n",
       "      <th>2</th>\n",
       "      <td>ESENYURT MEYDANDA MÜKEMMEL KONUMDA MASRAFSIZ 2...</td>\n",
       "      <td>14000</td>\n",
       "      <td>0</td>\n",
       "      <td>Esenyurt</td>\n",
       "      <td>Yeşilkent Mah.</td>\n",
       "      <td>Daire</td>\n",
       "      <td>3</td>\n",
       "      <td>1</td>\n",
       "      <td>1.0</td>\n",
       "      <td>4.0</td>\n",
       "      <td>...</td>\n",
       "      <td>Güney</td>\n",
       "      <td>https://www.hepsiemlak.com/istanbul-esenyurt-y...</td>\n",
       "      <td>100</td>\n",
       "      <td>80</td>\n",
       "      <td>0</td>\n",
       "      <td>20686.823529</td>\n",
       "      <td>16218.421053</td>\n",
       "      <td>5</td>\n",
       "      <td>1</td>\n",
       "      <td>0</td>\n",
       "    </tr>\n",
       "    <tr>\n",
       "      <th>3</th>\n",
       "      <td>Sarıyer Rumelikavağı Mahallesinde Deniz Manzar...</td>\n",
       "      <td>50000</td>\n",
       "      <td>0</td>\n",
       "      <td>Sarıyer</td>\n",
       "      <td>Rumeli Kavağı Mah.</td>\n",
       "      <td>Daire</td>\n",
       "      <td>5</td>\n",
       "      <td>2</td>\n",
       "      <td>3.0</td>\n",
       "      <td>3.0</td>\n",
       "      <td>...</td>\n",
       "      <td>Batı</td>\n",
       "      <td>https://www.hepsiemlak.com/istanbul-sariyer-ru...</td>\n",
       "      <td>160</td>\n",
       "      <td>150</td>\n",
       "      <td>0</td>\n",
       "      <td>110185.828616</td>\n",
       "      <td>102500.000000</td>\n",
       "      <td>5</td>\n",
       "      <td>1</td>\n",
       "      <td>0</td>\n",
       "    </tr>\n",
       "    <tr>\n",
       "      <th>4</th>\n",
       "      <td>DİAMOND DAN MAYA KEMER EVLERİ 2.ETAPTA 151 m2,...</td>\n",
       "      <td>140000</td>\n",
       "      <td>0</td>\n",
       "      <td>Eyüpsultan</td>\n",
       "      <td>Mimar Sinan Mah.</td>\n",
       "      <td>Daire</td>\n",
       "      <td>4</td>\n",
       "      <td>2</td>\n",
       "      <td>-1.0</td>\n",
       "      <td>3.0</td>\n",
       "      <td>...</td>\n",
       "      <td>Güney, Doğu</td>\n",
       "      <td>https://www.hepsiemlak.com/istanbul-eyupsultan...</td>\n",
       "      <td>151</td>\n",
       "      <td>111</td>\n",
       "      <td>0</td>\n",
       "      <td>65489.622642</td>\n",
       "      <td>45393.442623</td>\n",
       "      <td>8</td>\n",
       "      <td>1</td>\n",
       "      <td>0</td>\n",
       "    </tr>\n",
       "    <tr>\n",
       "      <th>5</th>\n",
       "      <td>Diamond Projeden Sarıyer Maden de Kiralık 4+1 ...</td>\n",
       "      <td>140000</td>\n",
       "      <td>0</td>\n",
       "      <td>Sarıyer</td>\n",
       "      <td>Maden Mah.</td>\n",
       "      <td>Daire</td>\n",
       "      <td>5</td>\n",
       "      <td>3</td>\n",
       "      <td>2.0</td>\n",
       "      <td>3.0</td>\n",
       "      <td>...</td>\n",
       "      <td>Güney, Doğu</td>\n",
       "      <td>https://www.hepsiemlak.com/istanbul-sariyer-ma...</td>\n",
       "      <td>270</td>\n",
       "      <td>230</td>\n",
       "      <td>0</td>\n",
       "      <td>110185.828616</td>\n",
       "      <td>139357.142857</td>\n",
       "      <td>5</td>\n",
       "      <td>1</td>\n",
       "      <td>0</td>\n",
       "    </tr>\n",
       "    <tr>\n",
       "      <th>6</th>\n",
       "      <td>Diamond Proje den Zekeriyaköyde Mimari tasarım...</td>\n",
       "      <td>500000</td>\n",
       "      <td>0</td>\n",
       "      <td>Sarıyer</td>\n",
       "      <td>Uskumruköy Mah.</td>\n",
       "      <td>Villa</td>\n",
       "      <td>7</td>\n",
       "      <td>3</td>\n",
       "      <td>1.0</td>\n",
       "      <td>3.0</td>\n",
       "      <td>...</td>\n",
       "      <td>Kuzey, Doğu, Batı</td>\n",
       "      <td>https://www.hepsiemlak.com/istanbul-sariyer-us...</td>\n",
       "      <td>500</td>\n",
       "      <td>350</td>\n",
       "      <td>3</td>\n",
       "      <td>110185.828616</td>\n",
       "      <td>200550.000000</td>\n",
       "      <td>5</td>\n",
       "      <td>1</td>\n",
       "      <td>0</td>\n",
       "    </tr>\n",
       "    <tr>\n",
       "      <th>7</th>\n",
       "      <td>BEBEK SAHİLDE DENİZ MANZARA ÖZEL TERASLI KİRAL...</td>\n",
       "      <td>290000</td>\n",
       "      <td>0</td>\n",
       "      <td>Beşiktaş</td>\n",
       "      <td>Bebek Mah.</td>\n",
       "      <td>Daire</td>\n",
       "      <td>4</td>\n",
       "      <td>2</td>\n",
       "      <td>22.0</td>\n",
       "      <td>3.0</td>\n",
       "      <td>...</td>\n",
       "      <td>Güney, Doğu, Batı</td>\n",
       "      <td>https://www.hepsiemlak.com/istanbul-besiktas-b...</td>\n",
       "      <td>390</td>\n",
       "      <td>310</td>\n",
       "      <td>0</td>\n",
       "      <td>145577.305450</td>\n",
       "      <td>189183.947368</td>\n",
       "      <td>5</td>\n",
       "      <td>1</td>\n",
       "      <td>0</td>\n",
       "    </tr>\n",
       "    <tr>\n",
       "      <th>8</th>\n",
       "      <td>ÜSKÜDAR 'DA LOKASYON OLARAK ÇOK MERKEZİ, 2+1 ,...</td>\n",
       "      <td>50000</td>\n",
       "      <td>0</td>\n",
       "      <td>Üsküdar</td>\n",
       "      <td>Aziz Mahmut Hüdayi Mah.</td>\n",
       "      <td>Daire</td>\n",
       "      <td>3</td>\n",
       "      <td>1</td>\n",
       "      <td>1.0</td>\n",
       "      <td>4.0</td>\n",
       "      <td>...</td>\n",
       "      <td>-</td>\n",
       "      <td>https://www.hepsiemlak.com/istanbul-uskudar-az...</td>\n",
       "      <td>100</td>\n",
       "      <td>85</td>\n",
       "      <td>0</td>\n",
       "      <td>60316.663793</td>\n",
       "      <td>45906.250000</td>\n",
       "      <td>5</td>\n",
       "      <td>1</td>\n",
       "      <td>0</td>\n",
       "    </tr>\n",
       "    <tr>\n",
       "      <th>9</th>\n",
       "      <td>GÖKTÜRK İZ EVLER SİTESİ'NDE 3+1 DAİRE</td>\n",
       "      <td>70000</td>\n",
       "      <td>0</td>\n",
       "      <td>Eyüpsultan</td>\n",
       "      <td>Göktürk Merkez Mah.</td>\n",
       "      <td>Daire</td>\n",
       "      <td>4</td>\n",
       "      <td>2</td>\n",
       "      <td>1.0</td>\n",
       "      <td>4.0</td>\n",
       "      <td>...</td>\n",
       "      <td>-</td>\n",
       "      <td>https://www.hepsiemlak.com/istanbul-eyupsultan...</td>\n",
       "      <td>178</td>\n",
       "      <td>160</td>\n",
       "      <td>0</td>\n",
       "      <td>65489.622642</td>\n",
       "      <td>124123.076923</td>\n",
       "      <td>5</td>\n",
       "      <td>1</td>\n",
       "      <td>0</td>\n",
       "    </tr>\n",
       "  </tbody>\n",
       "</table>\n",
       "<p>10 rows × 28 columns</p>\n",
       "</div>"
      ],
      "text/plain": [
       "                                              Başlık   Fiyat  Şehir  \\\n",
       "0  ESENYURT CUMHURİYET MAH 1+1 KİRALIK SIFIR SİTE...   12000      0   \n",
       "1  SIFIR SİTE İÇİ 1+1 KİRALIK DAİRE OTOPARKLI GÜV...   12000      0   \n",
       "2  ESENYURT MEYDANDA MÜKEMMEL KONUMDA MASRAFSIZ 2...   14000      0   \n",
       "3  Sarıyer Rumelikavağı Mahallesinde Deniz Manzar...   50000      0   \n",
       "4  DİAMOND DAN MAYA KEMER EVLERİ 2.ETAPTA 151 m2,...  140000      0   \n",
       "5  Diamond Projeden Sarıyer Maden de Kiralık 4+1 ...  140000      0   \n",
       "6  Diamond Proje den Zekeriyaköyde Mimari tasarım...  500000      0   \n",
       "7  BEBEK SAHİLDE DENİZ MANZARA ÖZEL TERASLI KİRAL...  290000      0   \n",
       "8  ÜSKÜDAR 'DA LOKASYON OLARAK ÇOK MERKEZİ, 2+1 ,...   50000      0   \n",
       "9              GÖKTÜRK İZ EVLER SİTESİ'NDE 3+1 DAİRE   70000      0   \n",
       "\n",
       "         İlçe                       Mahalle Konut Tipi  Oda Sayısı  \\\n",
       "0    Esenyurt  Barbaros Hayrettin Paşa Mah.      Daire           2   \n",
       "1    Esenyurt              Mehterçeşme Mah.      Daire           2   \n",
       "2    Esenyurt                Yeşilkent Mah.      Daire           3   \n",
       "3     Sarıyer            Rumeli Kavağı Mah.      Daire           5   \n",
       "4  Eyüpsultan              Mimar Sinan Mah.      Daire           4   \n",
       "5     Sarıyer                    Maden Mah.      Daire           5   \n",
       "6     Sarıyer               Uskumruköy Mah.      Villa           7   \n",
       "7    Beşiktaş                    Bebek Mah.      Daire           4   \n",
       "8     Üsküdar       Aziz Mahmut Hüdayi Mah.      Daire           3   \n",
       "9  Eyüpsultan           Göktürk Merkez Mah.      Daire           4   \n",
       "\n",
       "   Banyo Sayısı   Kat  Kat Sayısı  ...              Cephe  \\\n",
       "0             1   8.0        10.0  ...              Güney   \n",
       "1             1   5.0         5.0  ...       Kuzey, Güney   \n",
       "2             1   1.0         4.0  ...              Güney   \n",
       "3             2   3.0         3.0  ...               Batı   \n",
       "4             2  -1.0         3.0  ...        Güney, Doğu   \n",
       "5             3   2.0         3.0  ...        Güney, Doğu   \n",
       "6             3   1.0         3.0  ...  Kuzey, Doğu, Batı   \n",
       "7             2  22.0         3.0  ...  Güney, Doğu, Batı   \n",
       "8             1   1.0         4.0  ...                  -   \n",
       "9             2   1.0         4.0  ...                  -   \n",
       "\n",
       "                                                Link  Brüt m2 Net m2  \\\n",
       "0  https://www.hepsiemlak.com/istanbul-esenyurt-b...       75     55   \n",
       "1  https://www.hepsiemlak.com/istanbul-esenyurt-m...       95     70   \n",
       "2  https://www.hepsiemlak.com/istanbul-esenyurt-y...      100     80   \n",
       "3  https://www.hepsiemlak.com/istanbul-sariyer-ru...      160    150   \n",
       "4  https://www.hepsiemlak.com/istanbul-eyupsultan...      151    111   \n",
       "5  https://www.hepsiemlak.com/istanbul-sariyer-ma...      270    230   \n",
       "6  https://www.hepsiemlak.com/istanbul-sariyer-us...      500    350   \n",
       "7  https://www.hepsiemlak.com/istanbul-besiktas-b...      390    310   \n",
       "8  https://www.hepsiemlak.com/istanbul-uskudar-az...      100     85   \n",
       "9  https://www.hepsiemlak.com/istanbul-eyupsultan...      178    160   \n",
       "\n",
       "  Konut Tipi Encoded   İlçe Encoded  Mahalle Encoded Isınma Tipi Encoded  \\\n",
       "0                  0   20686.823529     19442.307692                   6   \n",
       "1                  0   20686.823529     15300.000000                   5   \n",
       "2                  0   20686.823529     16218.421053                   5   \n",
       "3                  0  110185.828616    102500.000000                   5   \n",
       "4                  0   65489.622642     45393.442623                   8   \n",
       "5                  0  110185.828616    139357.142857                   5   \n",
       "6                  3  110185.828616    200550.000000                   5   \n",
       "7                  0  145577.305450    189183.947368                   5   \n",
       "8                  0   60316.663793     45906.250000                   5   \n",
       "9                  0   65489.622642    124123.076923                   5   \n",
       "\n",
       "  Yakıt Tipi Encoded Yapı Tipi Encoded  \n",
       "0                  1                 0  \n",
       "1                  1                 0  \n",
       "2                  1                 0  \n",
       "3                  1                 0  \n",
       "4                  1                 0  \n",
       "5                  1                 0  \n",
       "6                  1                 0  \n",
       "7                  1                 0  \n",
       "8                  1                 0  \n",
       "9                  1                 0  \n",
       "\n",
       "[10 rows x 28 columns]"
      ]
     },
     "metadata": {},
     "output_type": "display_data"
    }
   ],
   "source": [
    "display(df.head(10))"
   ]
  },
  {
   "cell_type": "code",
   "execution_count": 301,
   "id": "876d7afc-cd27-4087-ba6d-a08256b4678e",
   "metadata": {},
   "outputs": [
    {
     "name": "stdout",
     "output_type": "stream",
     "text": [
      "Başlık                  object\n",
      "Fiyat                    int64\n",
      "Şehir                    int32\n",
      "İlçe                    object\n",
      "Mahalle                 object\n",
      "Konut Tipi              object\n",
      "Oda Sayısı               int64\n",
      "Banyo Sayısı             Int64\n",
      "Kat                    float64\n",
      "Kat Sayısı             float64\n",
      "Bina Yaşı                Int64\n",
      "Isınma Tipi             object\n",
      "Eşya Durumu              int64\n",
      "Yapı Tipi               object\n",
      "Yapının Durumu          object\n",
      "Aidat                    int32\n",
      "Depozito                 int32\n",
      "Yakıt Tipi              object\n",
      "Cephe                   object\n",
      "Link                    object\n",
      "Brüt m2                  int64\n",
      "Net m2                   int64\n",
      "Konut Tipi Encoded       int32\n",
      "İlçe Encoded           float64\n",
      "Mahalle Encoded        float64\n",
      "Isınma Tipi Encoded      int32\n",
      "Yakıt Tipi Encoded       int32\n",
      "Yapı Tipi Encoded        int32\n",
      "dtype: object\n"
     ]
    }
   ],
   "source": [
    "print(df.dtypes)"
   ]
  },
  {
   "cell_type": "code",
   "execution_count": 303,
   "id": "b27377b8-6df3-467a-8524-968e803d8aa1",
   "metadata": {},
   "outputs": [
    {
     "name": "stdout",
     "output_type": "stream",
     "text": [
      "['Sıfır' 'İkinci El' '-' 'Betonarme' 'Yapım Aşamasında']\n"
     ]
    }
   ],
   "source": [
    "print(df['Yapının Durumu'].unique())"
   ]
  },
  {
   "cell_type": "code",
   "execution_count": 305,
   "id": "d855a5d1-566e-4b13-b3dc-65b4e875cdaa",
   "metadata": {},
   "outputs": [
    {
     "name": "stdout",
     "output_type": "stream",
     "text": [
      "Yapının Durumu\n",
      "İkinci El           5740\n",
      "-                   2207\n",
      "Sıfır                884\n",
      "Betonarme             24\n",
      "Yapım Aşamasında       1\n",
      "Name: count, dtype: int64\n"
     ]
    }
   ],
   "source": [
    "print(df['Yapının Durumu'].value_counts())"
   ]
  },
  {
   "cell_type": "code",
   "execution_count": 307,
   "id": "e304f630-3484-4f7b-88dd-d875f75842e8",
   "metadata": {},
   "outputs": [
    {
     "name": "stdout",
     "output_type": "stream",
     "text": [
      "Yapının durumu kodlamaları: {0: 'Diğer', 1: 'Sıfır', 2: 'İkinci El'}\n"
     ]
    }
   ],
   "source": [
    "# \"-\" ve \"Betonarme\" değerlerini \"İkinci El\" olarak düzelt\n",
    "df['Yapının Durumu'] = df['Yapının Durumu'].replace({\"-\": \"İkinci El\", \"Betonarme\": \"İkinci El\"})\n",
    "\n",
    "# \"Yapım Aşamasında\" gibi çok az geçenleri \"Diğer\" yap\n",
    "df['Yapının Durumu'] = df['Yapının Durumu'].apply(lambda x: \"Diğer\" if x == \"Yapım Aşamasında\" else x)\n",
    "\n",
    "# Label Encoding\n",
    "from sklearn.preprocessing import LabelEncoder\n",
    "le_durum = LabelEncoder()\n",
    "df['Yapının Durumu Encoded'] = le_durum.fit_transform(df['Yapının Durumu'])\n",
    "\n",
    "# Kod eşleştirmesini görelim\n",
    "durum_mapping = dict(enumerate(le_durum.classes_))\n",
    "print(\"Yapının durumu kodlamaları:\", durum_mapping)\n"
   ]
  },
  {
   "cell_type": "code",
   "execution_count": 309,
   "id": "45eed5c0-6016-452e-89a4-4b5108c3316b",
   "metadata": {},
   "outputs": [
    {
     "name": "stdout",
     "output_type": "stream",
     "text": [
      "['Güney' 'Kuzey, Güney' 'Batı' 'Güney, Doğu' 'Kuzey, Doğu, Batı'\n",
      " 'Güney, Doğu, Batı' '-' 'Kuzey, Batı' 'Kuzey, Güney, Batı' 'Doğu, Batı'\n",
      " 'Kuzey, Doğu' 'Güney, Batı' 'Kuzey, Güney, Doğu' 'Doğu'\n",
      " 'Kuzey, Güney, Doğu, Batı' 'Kuzey' 'Fourlex']\n"
     ]
    }
   ],
   "source": [
    "print(df['Cephe'].unique())"
   ]
  },
  {
   "cell_type": "code",
   "execution_count": 311,
   "id": "b6b3792d-dfa8-46e0-bef1-1b737fb069d4",
   "metadata": {},
   "outputs": [
    {
     "name": "stdout",
     "output_type": "stream",
     "text": [
      "Cephe\n",
      "-                           2476\n",
      "Güney                       1607\n",
      "Güney, Doğu                  913\n",
      "Güney, Doğu, Batı            828\n",
      "Kuzey, Güney, Doğu, Batı     627\n",
      "Güney, Batı                  449\n",
      "Doğu                         395\n",
      "Kuzey, Güney                 340\n",
      "Doğu, Batı                   297\n",
      "Batı                         209\n",
      "Kuzey                        176\n",
      "Kuzey, Güney, Doğu           159\n",
      "Kuzey, Batı                  120\n",
      "Kuzey, Doğu                  117\n",
      "Kuzey, Doğu, Batı             78\n",
      "Kuzey, Güney, Batı            63\n",
      "Fourlex                        2\n",
      "Name: count, dtype: int64\n"
     ]
    }
   ],
   "source": [
    "print(df['Cephe'].value_counts())"
   ]
  },
  {
   "cell_type": "code",
   "execution_count": 313,
   "id": "ecb9ff87-c3da-4c3b-b84d-3afba32a9eaa",
   "metadata": {},
   "outputs": [],
   "source": [
    "# Eksik ve anlamsız değerleri \"Belirtilmemiş\" yap\n",
    "df['Cephe'] = df['Cephe'].replace({\"-\": \"Belirtilmemiş\", \"Fourlex\": \"Belirtilmemiş\"})\n",
    "\n",
    "# Tüm cephe bilgilerini büyük harfe çevir ve boşlukları temizle\n",
    "df['Cephe'] = df['Cephe'].str.title().str.strip()\n",
    "\n",
    "# Temel yönleri sütunlara ayır\n",
    "yönler = ['Kuzey', 'Güney', 'Doğu', 'Batı']\n",
    "for yön in yönler:\n",
    "    df[f'Cephe_{yön}'] = df['Cephe'].apply(lambda x: 1 if yön in x else 0)\n",
    "\n",
    "# Orijinal \"Cephe\" sütununu artık silebiliriz\n",
    "df.drop(columns='Cephe', inplace=True)\n",
    "df['Cephe_Bilinmiyor'] = df[['Cephe_Kuzey', 'Cephe_Güney', 'Cephe_Doğu', 'Cephe_Batı']].sum(axis=1) == 0\n",
    "df['Cephe_Bilinmiyor'] = df['Cephe_Bilinmiyor'].astype(int)\n"
   ]
  },
  {
   "cell_type": "code",
   "execution_count": 315,
   "id": "ae6a69f4-9f32-49ba-ac28-aa33983ed056",
   "metadata": {},
   "outputs": [
    {
     "data": {
      "text/html": [
       "<div>\n",
       "<style scoped>\n",
       "    .dataframe tbody tr th:only-of-type {\n",
       "        vertical-align: middle;\n",
       "    }\n",
       "\n",
       "    .dataframe tbody tr th {\n",
       "        vertical-align: top;\n",
       "    }\n",
       "\n",
       "    .dataframe thead th {\n",
       "        text-align: right;\n",
       "    }\n",
       "</style>\n",
       "<table border=\"1\" class=\"dataframe\">\n",
       "  <thead>\n",
       "    <tr style=\"text-align: right;\">\n",
       "      <th></th>\n",
       "      <th>Başlık</th>\n",
       "      <th>Fiyat</th>\n",
       "      <th>Şehir</th>\n",
       "      <th>İlçe</th>\n",
       "      <th>Mahalle</th>\n",
       "      <th>Konut Tipi</th>\n",
       "      <th>Oda Sayısı</th>\n",
       "      <th>Banyo Sayısı</th>\n",
       "      <th>Kat</th>\n",
       "      <th>Kat Sayısı</th>\n",
       "      <th>...</th>\n",
       "      <th>Mahalle Encoded</th>\n",
       "      <th>Isınma Tipi Encoded</th>\n",
       "      <th>Yakıt Tipi Encoded</th>\n",
       "      <th>Yapı Tipi Encoded</th>\n",
       "      <th>Yapının Durumu Encoded</th>\n",
       "      <th>Cephe_Kuzey</th>\n",
       "      <th>Cephe_Güney</th>\n",
       "      <th>Cephe_Doğu</th>\n",
       "      <th>Cephe_Batı</th>\n",
       "      <th>Cephe_Bilinmiyor</th>\n",
       "    </tr>\n",
       "  </thead>\n",
       "  <tbody>\n",
       "    <tr>\n",
       "      <th>0</th>\n",
       "      <td>ESENYURT CUMHURİYET MAH 1+1 KİRALIK SIFIR SİTE...</td>\n",
       "      <td>12000</td>\n",
       "      <td>0</td>\n",
       "      <td>Esenyurt</td>\n",
       "      <td>Barbaros Hayrettin Paşa Mah.</td>\n",
       "      <td>Daire</td>\n",
       "      <td>2</td>\n",
       "      <td>1</td>\n",
       "      <td>8.0</td>\n",
       "      <td>10.0</td>\n",
       "      <td>...</td>\n",
       "      <td>19442.307692</td>\n",
       "      <td>6</td>\n",
       "      <td>1</td>\n",
       "      <td>0</td>\n",
       "      <td>1</td>\n",
       "      <td>0</td>\n",
       "      <td>1</td>\n",
       "      <td>0</td>\n",
       "      <td>0</td>\n",
       "      <td>0</td>\n",
       "    </tr>\n",
       "    <tr>\n",
       "      <th>1</th>\n",
       "      <td>SIFIR SİTE İÇİ 1+1 KİRALIK DAİRE OTOPARKLI GÜV...</td>\n",
       "      <td>12000</td>\n",
       "      <td>0</td>\n",
       "      <td>Esenyurt</td>\n",
       "      <td>Mehterçeşme Mah.</td>\n",
       "      <td>Daire</td>\n",
       "      <td>2</td>\n",
       "      <td>1</td>\n",
       "      <td>5.0</td>\n",
       "      <td>5.0</td>\n",
       "      <td>...</td>\n",
       "      <td>15300.000000</td>\n",
       "      <td>5</td>\n",
       "      <td>1</td>\n",
       "      <td>0</td>\n",
       "      <td>1</td>\n",
       "      <td>1</td>\n",
       "      <td>1</td>\n",
       "      <td>0</td>\n",
       "      <td>0</td>\n",
       "      <td>0</td>\n",
       "    </tr>\n",
       "    <tr>\n",
       "      <th>2</th>\n",
       "      <td>ESENYURT MEYDANDA MÜKEMMEL KONUMDA MASRAFSIZ 2...</td>\n",
       "      <td>14000</td>\n",
       "      <td>0</td>\n",
       "      <td>Esenyurt</td>\n",
       "      <td>Yeşilkent Mah.</td>\n",
       "      <td>Daire</td>\n",
       "      <td>3</td>\n",
       "      <td>1</td>\n",
       "      <td>1.0</td>\n",
       "      <td>4.0</td>\n",
       "      <td>...</td>\n",
       "      <td>16218.421053</td>\n",
       "      <td>5</td>\n",
       "      <td>1</td>\n",
       "      <td>0</td>\n",
       "      <td>2</td>\n",
       "      <td>0</td>\n",
       "      <td>1</td>\n",
       "      <td>0</td>\n",
       "      <td>0</td>\n",
       "      <td>0</td>\n",
       "    </tr>\n",
       "    <tr>\n",
       "      <th>3</th>\n",
       "      <td>Sarıyer Rumelikavağı Mahallesinde Deniz Manzar...</td>\n",
       "      <td>50000</td>\n",
       "      <td>0</td>\n",
       "      <td>Sarıyer</td>\n",
       "      <td>Rumeli Kavağı Mah.</td>\n",
       "      <td>Daire</td>\n",
       "      <td>5</td>\n",
       "      <td>2</td>\n",
       "      <td>3.0</td>\n",
       "      <td>3.0</td>\n",
       "      <td>...</td>\n",
       "      <td>102500.000000</td>\n",
       "      <td>5</td>\n",
       "      <td>1</td>\n",
       "      <td>0</td>\n",
       "      <td>2</td>\n",
       "      <td>0</td>\n",
       "      <td>0</td>\n",
       "      <td>0</td>\n",
       "      <td>1</td>\n",
       "      <td>0</td>\n",
       "    </tr>\n",
       "    <tr>\n",
       "      <th>4</th>\n",
       "      <td>DİAMOND DAN MAYA KEMER EVLERİ 2.ETAPTA 151 m2,...</td>\n",
       "      <td>140000</td>\n",
       "      <td>0</td>\n",
       "      <td>Eyüpsultan</td>\n",
       "      <td>Mimar Sinan Mah.</td>\n",
       "      <td>Daire</td>\n",
       "      <td>4</td>\n",
       "      <td>2</td>\n",
       "      <td>-1.0</td>\n",
       "      <td>3.0</td>\n",
       "      <td>...</td>\n",
       "      <td>45393.442623</td>\n",
       "      <td>8</td>\n",
       "      <td>1</td>\n",
       "      <td>0</td>\n",
       "      <td>1</td>\n",
       "      <td>0</td>\n",
       "      <td>1</td>\n",
       "      <td>1</td>\n",
       "      <td>0</td>\n",
       "      <td>0</td>\n",
       "    </tr>\n",
       "    <tr>\n",
       "      <th>5</th>\n",
       "      <td>Diamond Projeden Sarıyer Maden de Kiralık 4+1 ...</td>\n",
       "      <td>140000</td>\n",
       "      <td>0</td>\n",
       "      <td>Sarıyer</td>\n",
       "      <td>Maden Mah.</td>\n",
       "      <td>Daire</td>\n",
       "      <td>5</td>\n",
       "      <td>3</td>\n",
       "      <td>2.0</td>\n",
       "      <td>3.0</td>\n",
       "      <td>...</td>\n",
       "      <td>139357.142857</td>\n",
       "      <td>5</td>\n",
       "      <td>1</td>\n",
       "      <td>0</td>\n",
       "      <td>2</td>\n",
       "      <td>0</td>\n",
       "      <td>1</td>\n",
       "      <td>1</td>\n",
       "      <td>0</td>\n",
       "      <td>0</td>\n",
       "    </tr>\n",
       "    <tr>\n",
       "      <th>6</th>\n",
       "      <td>Diamond Proje den Zekeriyaköyde Mimari tasarım...</td>\n",
       "      <td>500000</td>\n",
       "      <td>0</td>\n",
       "      <td>Sarıyer</td>\n",
       "      <td>Uskumruköy Mah.</td>\n",
       "      <td>Villa</td>\n",
       "      <td>7</td>\n",
       "      <td>3</td>\n",
       "      <td>1.0</td>\n",
       "      <td>3.0</td>\n",
       "      <td>...</td>\n",
       "      <td>200550.000000</td>\n",
       "      <td>5</td>\n",
       "      <td>1</td>\n",
       "      <td>0</td>\n",
       "      <td>2</td>\n",
       "      <td>1</td>\n",
       "      <td>0</td>\n",
       "      <td>1</td>\n",
       "      <td>1</td>\n",
       "      <td>0</td>\n",
       "    </tr>\n",
       "    <tr>\n",
       "      <th>7</th>\n",
       "      <td>BEBEK SAHİLDE DENİZ MANZARA ÖZEL TERASLI KİRAL...</td>\n",
       "      <td>290000</td>\n",
       "      <td>0</td>\n",
       "      <td>Beşiktaş</td>\n",
       "      <td>Bebek Mah.</td>\n",
       "      <td>Daire</td>\n",
       "      <td>4</td>\n",
       "      <td>2</td>\n",
       "      <td>22.0</td>\n",
       "      <td>3.0</td>\n",
       "      <td>...</td>\n",
       "      <td>189183.947368</td>\n",
       "      <td>5</td>\n",
       "      <td>1</td>\n",
       "      <td>0</td>\n",
       "      <td>2</td>\n",
       "      <td>0</td>\n",
       "      <td>1</td>\n",
       "      <td>1</td>\n",
       "      <td>1</td>\n",
       "      <td>0</td>\n",
       "    </tr>\n",
       "    <tr>\n",
       "      <th>8</th>\n",
       "      <td>ÜSKÜDAR 'DA LOKASYON OLARAK ÇOK MERKEZİ, 2+1 ,...</td>\n",
       "      <td>50000</td>\n",
       "      <td>0</td>\n",
       "      <td>Üsküdar</td>\n",
       "      <td>Aziz Mahmut Hüdayi Mah.</td>\n",
       "      <td>Daire</td>\n",
       "      <td>3</td>\n",
       "      <td>1</td>\n",
       "      <td>1.0</td>\n",
       "      <td>4.0</td>\n",
       "      <td>...</td>\n",
       "      <td>45906.250000</td>\n",
       "      <td>5</td>\n",
       "      <td>1</td>\n",
       "      <td>0</td>\n",
       "      <td>2</td>\n",
       "      <td>0</td>\n",
       "      <td>0</td>\n",
       "      <td>0</td>\n",
       "      <td>0</td>\n",
       "      <td>1</td>\n",
       "    </tr>\n",
       "    <tr>\n",
       "      <th>9</th>\n",
       "      <td>GÖKTÜRK İZ EVLER SİTESİ'NDE 3+1 DAİRE</td>\n",
       "      <td>70000</td>\n",
       "      <td>0</td>\n",
       "      <td>Eyüpsultan</td>\n",
       "      <td>Göktürk Merkez Mah.</td>\n",
       "      <td>Daire</td>\n",
       "      <td>4</td>\n",
       "      <td>2</td>\n",
       "      <td>1.0</td>\n",
       "      <td>4.0</td>\n",
       "      <td>...</td>\n",
       "      <td>124123.076923</td>\n",
       "      <td>5</td>\n",
       "      <td>1</td>\n",
       "      <td>0</td>\n",
       "      <td>2</td>\n",
       "      <td>0</td>\n",
       "      <td>0</td>\n",
       "      <td>0</td>\n",
       "      <td>0</td>\n",
       "      <td>1</td>\n",
       "    </tr>\n",
       "  </tbody>\n",
       "</table>\n",
       "<p>10 rows × 33 columns</p>\n",
       "</div>"
      ],
      "text/plain": [
       "                                              Başlık   Fiyat  Şehir  \\\n",
       "0  ESENYURT CUMHURİYET MAH 1+1 KİRALIK SIFIR SİTE...   12000      0   \n",
       "1  SIFIR SİTE İÇİ 1+1 KİRALIK DAİRE OTOPARKLI GÜV...   12000      0   \n",
       "2  ESENYURT MEYDANDA MÜKEMMEL KONUMDA MASRAFSIZ 2...   14000      0   \n",
       "3  Sarıyer Rumelikavağı Mahallesinde Deniz Manzar...   50000      0   \n",
       "4  DİAMOND DAN MAYA KEMER EVLERİ 2.ETAPTA 151 m2,...  140000      0   \n",
       "5  Diamond Projeden Sarıyer Maden de Kiralık 4+1 ...  140000      0   \n",
       "6  Diamond Proje den Zekeriyaköyde Mimari tasarım...  500000      0   \n",
       "7  BEBEK SAHİLDE DENİZ MANZARA ÖZEL TERASLI KİRAL...  290000      0   \n",
       "8  ÜSKÜDAR 'DA LOKASYON OLARAK ÇOK MERKEZİ, 2+1 ,...   50000      0   \n",
       "9              GÖKTÜRK İZ EVLER SİTESİ'NDE 3+1 DAİRE   70000      0   \n",
       "\n",
       "         İlçe                       Mahalle Konut Tipi  Oda Sayısı  \\\n",
       "0    Esenyurt  Barbaros Hayrettin Paşa Mah.      Daire           2   \n",
       "1    Esenyurt              Mehterçeşme Mah.      Daire           2   \n",
       "2    Esenyurt                Yeşilkent Mah.      Daire           3   \n",
       "3     Sarıyer            Rumeli Kavağı Mah.      Daire           5   \n",
       "4  Eyüpsultan              Mimar Sinan Mah.      Daire           4   \n",
       "5     Sarıyer                    Maden Mah.      Daire           5   \n",
       "6     Sarıyer               Uskumruköy Mah.      Villa           7   \n",
       "7    Beşiktaş                    Bebek Mah.      Daire           4   \n",
       "8     Üsküdar       Aziz Mahmut Hüdayi Mah.      Daire           3   \n",
       "9  Eyüpsultan           Göktürk Merkez Mah.      Daire           4   \n",
       "\n",
       "   Banyo Sayısı   Kat  Kat Sayısı  ...  Mahalle Encoded Isınma Tipi Encoded  \\\n",
       "0             1   8.0        10.0  ...     19442.307692                   6   \n",
       "1             1   5.0         5.0  ...     15300.000000                   5   \n",
       "2             1   1.0         4.0  ...     16218.421053                   5   \n",
       "3             2   3.0         3.0  ...    102500.000000                   5   \n",
       "4             2  -1.0         3.0  ...     45393.442623                   8   \n",
       "5             3   2.0         3.0  ...    139357.142857                   5   \n",
       "6             3   1.0         3.0  ...    200550.000000                   5   \n",
       "7             2  22.0         3.0  ...    189183.947368                   5   \n",
       "8             1   1.0         4.0  ...     45906.250000                   5   \n",
       "9             2   1.0         4.0  ...    124123.076923                   5   \n",
       "\n",
       "   Yakıt Tipi Encoded Yapı Tipi Encoded Yapının Durumu Encoded  Cephe_Kuzey  \\\n",
       "0                   1                 0                      1            0   \n",
       "1                   1                 0                      1            1   \n",
       "2                   1                 0                      2            0   \n",
       "3                   1                 0                      2            0   \n",
       "4                   1                 0                      1            0   \n",
       "5                   1                 0                      2            0   \n",
       "6                   1                 0                      2            1   \n",
       "7                   1                 0                      2            0   \n",
       "8                   1                 0                      2            0   \n",
       "9                   1                 0                      2            0   \n",
       "\n",
       "   Cephe_Güney Cephe_Doğu Cephe_Batı  Cephe_Bilinmiyor  \n",
       "0            1          0          0                 0  \n",
       "1            1          0          0                 0  \n",
       "2            1          0          0                 0  \n",
       "3            0          0          1                 0  \n",
       "4            1          1          0                 0  \n",
       "5            1          1          0                 0  \n",
       "6            0          1          1                 0  \n",
       "7            1          1          1                 0  \n",
       "8            0          0          0                 1  \n",
       "9            0          0          0                 1  \n",
       "\n",
       "[10 rows x 33 columns]"
      ]
     },
     "metadata": {},
     "output_type": "display_data"
    }
   ],
   "source": [
    "display(df.head(10))"
   ]
  },
  {
   "cell_type": "code",
   "execution_count": 155,
   "id": "44b66a18-dd21-45ca-9034-865a325bc422",
   "metadata": {},
   "outputs": [
    {
     "data": {
      "image/png": "[encoded data removed]",
      "text/plain": [
       "<Figure size 600x500 with 1 Axes>"
      ]
     },
     "metadata": {},
     "output_type": "display_data"
    }
   ],
   "source": [
    "import matplotlib.pyplot as plt\n",
    "import seaborn as sns\n",
    "import matplotlib.ticker as ticker\n",
    "\n",
    "plt.figure(figsize=(6, 5))\n",
    "sns.boxplot(y=df[\"Fiyat\"], color=\"lightcoral\")\n",
    "\n",
    "plt.title(\"Rental Price (₺) – With Outliers\", fontsize=12)\n",
    "plt.ylabel(\"Fiyat (₺)\")\n",
    "\n",
    "# Bilimsel gösterimi kapat, normal sayı biçimi göster\n",
    "plt.gca().yaxis.set_major_formatter(ticker.FuncFormatter(lambda x, _: f'{int(x):,}'.replace(\",\", \".\")))\n",
    "\n",
    "plt.tight_layout()\n",
    "plt.show()\n",
    "\n"
   ]
  },
  {
   "cell_type": "code",
   "execution_count": 157,
   "id": "57485b8c-e33c-49b6-9871-6b2f39dd92cf",
   "metadata": {},
   "outputs": [
    {
     "data": {
      "image/png": "[encoded data removed]",
      "text/plain": [
       "<Figure size 600x500 with 1 Axes>"
      ]
     },
     "metadata": {},
     "output_type": "display_data"
    }
   ],
   "source": [
    "plt.figure(figsize=(6, 5))\n",
    "sns.boxplot(y=df[\"Brüt m2\"], color=\"lightcoral\")\n",
    "plt.title(\"Gross Area (m²) – With Outliers\", fontsize=12)\n",
    "plt.ylabel(\"Gross Area (m²)\")\n",
    "plt.tight_layout()\n",
    "plt.show()\n"
   ]
  },
  {
   "cell_type": "code",
   "execution_count": 159,
   "id": "9343a488-da88-4c64-bda7-e0dbeb10b110",
   "metadata": {},
   "outputs": [
    {
     "data": {
      "image/png": "[encoded data removed]",
      "text/plain": [
       "<Figure size 600x500 with 1 Axes>"
      ]
     },
     "metadata": {},
     "output_type": "display_data"
    }
   ],
   "source": [
    "plt.figure(figsize=(6, 5))\n",
    "sns.boxplot(y=df[\"Net m2\"], color=\"lightcoral\")\n",
    "plt.title(\"Net Area (m²) – With Outliers\", fontsize=12)\n",
    "plt.ylabel(\"Net Area (m²)\")\n",
    "plt.tight_layout()\n",
    "plt.show()\n"
   ]
  },
  {
   "cell_type": "code",
   "execution_count": 161,
   "id": "e6a4e58a-fe0c-4908-81fd-ef8ac129d9ac",
   "metadata": {},
   "outputs": [
    {
     "data": {
      "image/png": "[encoded data removed]",
      "text/plain": [
       "<Figure size 600x500 with 1 Axes>"
      ]
     },
     "metadata": {},
     "output_type": "display_data"
    }
   ],
   "source": [
    "plt.figure(figsize=(6, 5))\n",
    "sns.boxplot(y=df[\"Bina Yaşı\"], color=\"lightcoral\")\n",
    "plt.title(\"Building Age (years) – With Outliers\", fontsize=12)\n",
    "plt.ylabel(\"Building Age (years)\")\n",
    "plt.tight_layout()\n",
    "plt.show()\n"
   ]
  },
  {
   "cell_type": "code",
   "execution_count": 165,
   "id": "1db138a1-51c0-4b8f-aa47-edf25cdbd153",
   "metadata": {},
   "outputs": [
    {
     "data": {
      "image/png": "[encoded data removed]",
      "text/plain": [
       "<Figure size 600x500 with 1 Axes>"
      ]
     },
     "metadata": {},
     "output_type": "display_data"
    }
   ],
   "source": [
    "plt.figure(figsize=(6, 5))\n",
    "sns.boxplot(y=df[\"Depozito\"], color=\"lightcoral\")\n",
    "plt.title(\"Deposit (₺) – With Outliers\", fontsize=12)\n",
    "plt.ylabel(\"Deposit (₺)\")\n",
    "# Bilimsel gösterimi kapat, normal sayı biçimi göster\n",
    "plt.gca().yaxis.set_major_formatter(ticker.FuncFormatter(lambda x, _: f'{int(x):,}'.replace(\",\", \".\")))\n",
    "\n",
    "plt.tight_layout()\n",
    "plt.show()\n",
    "\n"
   ]
  },
  {
   "cell_type": "code",
   "execution_count": null,
   "id": "448adac6-2651-49eb-80c3-a9508aff8891",
   "metadata": {},
   "outputs": [],
   "source": [
    "import seaborn as sns\n",
    "import matplotlib.pyplot as plt\n",
    "import numpy as np\n",
    "import pandas as pd\n",
    "\n",
    "\n",
    "# 2.5×IQR ile outlier temizleme fonksiyonu\n",
    "def remove_outliers_iqr(data, column, multiplier=2.5):\n",
    "    Q1 = data[column].quantile(0.25)\n",
    "    Q3 = data[column].quantile(0.75)\n",
    "    IQR = Q3 - Q1\n",
    "    lower = Q1 - multiplier * IQR\n",
    "    upper = Q3 + multiplier * IQR\n",
    "    return data[(data[column] >= lower) & (data[column] <= upper)]\n",
    "\n",
    "# Görselleştirilecek özellikler ve başlıkları\n",
    "features = [\"Fiyat\", \"Brüt m2\", \"Net m2\", \"Bina Yaşı\", \"Depozito\"]\n",
    "titles_en = [\"Rental Price (₺)\", \"Gross Area (m²)\", \"Net Area (m²)\", \"Building Age (years)\", \"Deposit (₺)\"]\n",
    "\n",
    "# Görselleştirme\n",
    "fig, axes = plt.subplots(len(features), 2, figsize=(14, 24))\n",
    "\n",
    "for i, (feature, title) in enumerate(zip(features, titles_en)):\n",
    "    # Her ihtimale karşı dönüşüm yap\n",
    "    df[feature] = pd.to_numeric(df[feature], errors=\"coerce\")\n",
    "    \n",
    "    # Sol grafik: Outlier'lı\n",
    "    sns.boxplot(y=df[feature], ax=axes[i, 0], color=\"lightcoral\")\n",
    "    axes[i, 0].set_title(f\"{title} – With Outliers\", fontsize=11)\n",
    "    axes[i, 0].set_ylabel(title)\n",
    "\n",
    "    # Sağ grafik: Outlier temizlenmiş\n",
    "    df_clean = remove_outliers_iqr(df, feature)\n",
    "    sns.boxplot(y=df_clean[feature], ax=axes[i, 1], color=\"mediumseagreen\")\n",
    "    axes[i, 1].set_title(f\"{title} – Outliers Removed\", fontsize=11)\n",
    "    axes[i, 1].set_ylabel(title)\n",
    "\n",
    "# Genel başlık\n",
    "plt.suptitle(\"Boxplot Comparison: Before and After Outlier Removal (2.5×IQR)\", fontsize=15, y=1.02)\n",
    "plt.tight_layout()\n",
    "plt.show()\n",
    "\n"
   ]
  },
  {
   "cell_type": "code",
   "execution_count": 317,
   "id": "bd7f1535-9a14-4987-8c65-86eab4401173",
   "metadata": {},
   "outputs": [],
   "source": [
    "def aykiri_istatistikleri_ve_temizle(df, var):\n",
    "    Q1 = np.quantile(df[var], 0.25)\n",
    "    Q3 = np.quantile(df[var], 0.75)\n",
    "    IQR = Q3 - Q1\n",
    "    lower = Q1 - 2.5 * IQR\n",
    "    upper = Q3 + 2.5 * IQR\n",
    "\n",
    "    outlier_count = df[(df[var] < lower) | (df[var] > upper)].shape[0]\n",
    "    \n",
    "    # Aykırı değerleri filtrele\n",
    "    df_cleaned = df[(df[var] >= lower) & (df[var] <= upper)].copy()\n",
    "\n",
    "    stats = {\n",
    "        \"Feature\": var,\n",
    "        \"Q1\": round(Q1, 2),\n",
    "        \"Q3\": round(Q3, 2),\n",
    "        \"IQR\": round(IQR, 2),\n",
    "        \"Lower Bound\": round(lower, 2),\n",
    "        \"Upper Bound\": round(upper, 2),\n",
    "        \"Outlier Count\": outlier_count\n",
    "    }\n",
    "\n",
    "    return df_cleaned, stats\n",
    "\n"
   ]
  },
  {
   "cell_type": "code",
   "execution_count": 319,
   "id": "371fd2fe-7575-4281-ae38-cff625b56c7f",
   "metadata": {},
   "outputs": [
    {
     "data": {
      "text/html": [
       "<div>\n",
       "<style scoped>\n",
       "    .dataframe tbody tr th:only-of-type {\n",
       "        vertical-align: middle;\n",
       "    }\n",
       "\n",
       "    .dataframe tbody tr th {\n",
       "        vertical-align: top;\n",
       "    }\n",
       "\n",
       "    .dataframe thead th {\n",
       "        text-align: right;\n",
       "    }\n",
       "</style>\n",
       "<table border=\"1\" class=\"dataframe\">\n",
       "  <thead>\n",
       "    <tr style=\"text-align: right;\">\n",
       "      <th></th>\n",
       "      <th>Feature</th>\n",
       "      <th>Q1</th>\n",
       "      <th>Q3</th>\n",
       "      <th>IQR</th>\n",
       "      <th>Lower Bound</th>\n",
       "      <th>Upper Bound</th>\n",
       "      <th>Outlier Count</th>\n",
       "    </tr>\n",
       "  </thead>\n",
       "  <tbody>\n",
       "    <tr>\n",
       "      <th>0</th>\n",
       "      <td>Fiyat</td>\n",
       "      <td>20000.0</td>\n",
       "      <td>55000.0</td>\n",
       "      <td>35000.0</td>\n",
       "      <td>-67500.0</td>\n",
       "      <td>142500.0</td>\n",
       "      <td>699</td>\n",
       "    </tr>\n",
       "    <tr>\n",
       "      <th>1</th>\n",
       "      <td>Brüt m2</td>\n",
       "      <td>75.0</td>\n",
       "      <td>130.0</td>\n",
       "      <td>55.0</td>\n",
       "      <td>-62.5</td>\n",
       "      <td>267.5</td>\n",
       "      <td>205</td>\n",
       "    </tr>\n",
       "    <tr>\n",
       "      <th>2</th>\n",
       "      <td>Net m2</td>\n",
       "      <td>65.0</td>\n",
       "      <td>110.0</td>\n",
       "      <td>45.0</td>\n",
       "      <td>-47.5</td>\n",
       "      <td>222.5</td>\n",
       "      <td>42</td>\n",
       "    </tr>\n",
       "    <tr>\n",
       "      <th>3</th>\n",
       "      <td>Bina Yaşı</td>\n",
       "      <td>6.0</td>\n",
       "      <td>30.0</td>\n",
       "      <td>24.0</td>\n",
       "      <td>-54.0</td>\n",
       "      <td>90.0</td>\n",
       "      <td>24</td>\n",
       "    </tr>\n",
       "    <tr>\n",
       "      <th>4</th>\n",
       "      <td>Depozito</td>\n",
       "      <td>23000.0</td>\n",
       "      <td>67500.0</td>\n",
       "      <td>44500.0</td>\n",
       "      <td>-88250.0</td>\n",
       "      <td>178750.0</td>\n",
       "      <td>275</td>\n",
       "    </tr>\n",
       "  </tbody>\n",
       "</table>\n",
       "</div>"
      ],
      "text/plain": [
       "     Feature       Q1       Q3      IQR  Lower Bound  Upper Bound  \\\n",
       "0      Fiyat  20000.0  55000.0  35000.0     -67500.0     142500.0   \n",
       "1    Brüt m2     75.0    130.0     55.0        -62.5        267.5   \n",
       "2     Net m2     65.0    110.0     45.0        -47.5        222.5   \n",
       "3  Bina Yaşı      6.0     30.0     24.0        -54.0         90.0   \n",
       "4   Depozito  23000.0  67500.0  44500.0     -88250.0     178750.0   \n",
       "\n",
       "   Outlier Count  \n",
       "0            699  \n",
       "1            205  \n",
       "2             42  \n",
       "3             24  \n",
       "4            275  "
      ]
     },
     "metadata": {},
     "output_type": "display_data"
    }
   ],
   "source": [
    "features = [\"Fiyat\", \"Brüt m2\", \"Net m2\", \"Bina Yaşı\", \"Depozito\"]\n",
    "stats_list = []\n",
    "\n",
    "for feature in features:\n",
    "    df, stats = aykiri_istatistikleri_ve_temizle(df, feature)\n",
    "    stats_list.append(stats)\n",
    "\n",
    "# Tablo oluştur\n",
    "outlier_df = pd.DataFrame(stats_list)\n",
    "display(outlier_df)\n"
   ]
  },
  {
   "cell_type": "code",
   "execution_count": 321,
   "id": "56c6ea05-b228-4fe4-8526-7e2a6ec3fd9f",
   "metadata": {},
   "outputs": [
    {
     "name": "stdout",
     "output_type": "stream",
     "text": [
      "Başlık                     object\n",
      "Fiyat                       int64\n",
      "Şehir                       int32\n",
      "İlçe                       object\n",
      "Mahalle                    object\n",
      "Konut Tipi                 object\n",
      "Oda Sayısı                  int64\n",
      "Banyo Sayısı                Int64\n",
      "Kat                       float64\n",
      "Kat Sayısı                float64\n",
      "Bina Yaşı                   Int64\n",
      "Isınma Tipi                object\n",
      "Eşya Durumu                 int64\n",
      "Yapı Tipi                  object\n",
      "Yapının Durumu             object\n",
      "Aidat                       int32\n",
      "Depozito                    int32\n",
      "Yakıt Tipi                 object\n",
      "Link                       object\n",
      "Brüt m2                     int64\n",
      "Net m2                      int64\n",
      "Konut Tipi Encoded          int32\n",
      "İlçe Encoded              float64\n",
      "Mahalle Encoded           float64\n",
      "Isınma Tipi Encoded         int32\n",
      "Yakıt Tipi Encoded          int32\n",
      "Yapı Tipi Encoded           int32\n",
      "Yapının Durumu Encoded      int32\n",
      "Cephe_Kuzey                 int64\n",
      "Cephe_Güney                 int64\n",
      "Cephe_Doğu                  int64\n",
      "Cephe_Batı                  int64\n",
      "Cephe_Bilinmiyor            int32\n",
      "dtype: object\n"
     ]
    }
   ],
   "source": [
    "print(df.dtypes)"
   ]
  },
  {
   "cell_type": "code",
   "execution_count": 323,
   "id": "80ae655f-ac6c-457c-8365-4623471b71fb",
   "metadata": {},
   "outputs": [
    {
     "data": {
      "text/plain": [
       "(7611, 33)"
      ]
     },
     "execution_count": 323,
     "metadata": {},
     "output_type": "execute_result"
    }
   ],
   "source": [
    "df.shape"
   ]
  },
  {
   "cell_type": "code",
   "execution_count": 325,
   "id": "5fd046bc-b59c-4847-9f88-80f5565abd84",
   "metadata": {},
   "outputs": [
    {
     "data": {
      "image/png": "[encoded data removed]",
      "text/plain": [
       "<Figure size 1600x1200 with 2 Axes>"
      ]
     },
     "metadata": {},
     "output_type": "display_data"
    }
   ],
   "source": [
    "import seaborn as sns\n",
    "import matplotlib.pyplot as plt\n",
    "\n",
    "# Korelasyon hesaplanabilir sayısal sütunları listele\n",
    "selected_features = [\n",
    "    'Konut Tipi Encoded', 'Oda Sayısı', 'Banyo Sayısı', 'Kat', 'Kat Sayısı',\n",
    "    'Bina Yaşı', 'Eşya Durumu', 'Aidat', 'Depozito', 'Brüt m2', 'Net m2',\n",
    "    'İlçe Encoded', 'Mahalle Encoded',\n",
    "    'Isınma Tipi Encoded', 'Yapının Durumu Encoded', 'Yapı Tipi Encoded',\n",
    "    'Cephe_Bilinmiyor', 'Yakıt Tipi Encoded','Cephe_Kuzey', 'Cephe_Güney', 'Cephe_Doğu', 'Cephe_Batı','Fiyat'  # encoding yapılmış halleri\n",
    "]\n",
    "\n",
    "# Korelasyon matrisi\n",
    "correlation_matrix = df[selected_features].corr()\n",
    "\n",
    "# Görselleştirme\n",
    "plt.figure(figsize=(16, 12))\n",
    "sns.heatmap(correlation_matrix, annot=True, cmap=\"coolwarm\", fmt=\".2f\", linewidths=0.5)\n",
    "plt.title(\"Genişletilmiş Özellikler Arası Korelasyon Matrisi\", fontsize=10)\n",
    "plt.xticks(rotation=45)\n",
    "plt.yticks(rotation=0)\n",
    "plt.tight_layout()\n",
    "plt.show()\n"
   ]
  },
  {
   "cell_type": "code",
   "execution_count": null,
   "id": "0066c6d0-0bbe-44fc-bef1-791aa7a32362",
   "metadata": {},
   "outputs": [],
   "source": [
    "df.to_csv('hepsiemlakpreprocessing.csv', index=False, encoding='utf-8')"
   ]
  },
  {
   "cell_type": "code",
   "execution_count": null,
   "id": "043cfcf1-05da-4165-93ed-9bc9d5492990",
   "metadata": {},
   "outputs": [],
   "source": []
  },
  {
   "cell_type": "code",
   "execution_count": null,
   "id": "4f605eed-c1b1-493e-a687-a90858203acc",
   "metadata": {},
   "outputs": [],
   "source": []
  },
  {
   "cell_type": "code",
   "execution_count": null,
   "id": "44464069-7ea6-4d81-9237-1f0e1b3d4f66",
   "metadata": {},
   "outputs": [],
   "source": []
  },
  {
   "cell_type": "code",
   "execution_count": null,
   "id": "872330f6-a87d-4f8e-b343-54039ad1f672",
   "metadata": {},
   "outputs": [],
   "source": []
  }
 ],
 "metadata": {
  "kernelspec": {
   "display_name": "Python [conda env:base] *",
   "language": "python",
   "name": "conda-base-py"
  },
  "language_info": {
   "codemirror_mode": {
    "name": "ipython",
    "version": 3
   },
   "file_extension": ".py",
   "mimetype": "text/x-python",
   "name": "python",
   "nbconvert_exporter": "python",
   "pygments_lexer": "ipython3",
   "version": "3.12.7"
  }
 },
 "nbformat": 4,
 "nbformat_minor": 5
}
